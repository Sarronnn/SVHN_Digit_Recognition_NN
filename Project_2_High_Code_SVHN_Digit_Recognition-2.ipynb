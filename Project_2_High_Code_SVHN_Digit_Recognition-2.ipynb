{
  "cells": [
    {
      "cell_type": "markdown",
      "metadata": {
        "id": "Q91KqmCRu64D"
      },
      "source": [
        "# **Deep Learning Project: Street View Housing Number Digit Recognition**\n",
        "\n",
        "# **Marks: 60**\n",
        "\n",
        "--------------\n",
        "## **Context**\n",
        "--------------\n",
        "\n",
        "One of the most interesting tasks in deep learning is to recognize objects in natural scenes. The ability to process visual information using machine learning algorithms can be very useful as demonstrated in various applications.\n",
        "\n",
        "The SVHN dataset contains over 600,000 labeled digits cropped from street-level photos. It is one of the most popular image recognition datasets. It has been used in neural networks created by Google to improve the map quality by automatically transcribing the address numbers from a patch of pixels. The transcribed number with a known street address helps pinpoint the location of the building it represents.\n",
        "\n",
        "----------------\n",
        "## **Objective**\n",
        "----------------\n",
        "\n",
        "Our objective is to predict the number depicted inside the image by using Artificial or Fully Connected Feed Forward Neural Networks and Convolutional Neural Networks. We will go through various models of each and finally select the one that is giving us the best performance.\n",
        "\n",
        "-------------\n",
        "## **Dataset**\n",
        "-------------\n",
        "Here, we will use a subset of the original data to save some computation time. The dataset is provided as a .h5 file. The basic preprocessing steps have been applied on the dataset."
      ]
    },
    {
      "cell_type": "markdown",
      "metadata": {
        "id": "8z2Z7-OAs8QG"
      },
      "source": [
        "## **Mount the drive**\n",
        "\n",
        "Let us start by mounting the Google drive. You can run the below cell to mount the Google drive."
      ]
    },
    {
      "cell_type": "code",
      "execution_count": null,
      "metadata": {
        "id": "03lDyQUuef7z",
        "colab": {
          "base_uri": "https://localhost:8080/"
        },
        "outputId": "76017d31-16c2-4f09-c718-9e6d699182dc"
      },
      "outputs": [
        {
          "output_type": "stream",
          "name": "stdout",
          "text": [
            "Mounted at /content/drive\n"
          ]
        }
      ],
      "source": [
        "from google.colab import drive\n",
        "drive.mount('/content/drive')"
      ]
    },
    {
      "cell_type": "markdown",
      "metadata": {
        "id": "C8U3DUa3eNsT"
      },
      "source": [
        "## **Importing the necessary libraries**"
      ]
    },
    {
      "cell_type": "code",
      "execution_count": null,
      "metadata": {
        "id": "-dVzeuF3eQx1"
      },
      "outputs": [],
      "source": [
        "# import libraries for data manipulation\n",
        "import numpy as np\n",
        "import pandas as pd\n",
        "\n",
        "# import libraries for data visualization\n",
        "import matplotlib.pyplot as plt\n",
        "import seaborn as sns\n",
        "\n",
        "# Import the TensorFlow library\n",
        "import tensorflow as tf"
      ]
    },
    {
      "cell_type": "markdown",
      "metadata": {
        "id": "ucnevGLoyKf_"
      },
      "source": [
        "**Let us check the version of tensorflow.**"
      ]
    },
    {
      "cell_type": "code",
      "execution_count": null,
      "metadata": {
        "id": "W5as47YxyJVk",
        "colab": {
          "base_uri": "https://localhost:8080/"
        },
        "outputId": "1838be04-96a9-4bda-d21e-b984284d71b4"
      },
      "outputs": [
        {
          "output_type": "stream",
          "name": "stdout",
          "text": [
            "2.12.0\n"
          ]
        }
      ],
      "source": [
        "print(tf.__version__)\n"
      ]
    },
    {
      "cell_type": "markdown",
      "metadata": {
        "id": "8lsux2ZwyTTR"
      },
      "source": [
        "## **Load the dataset**\n",
        "\n",
        "- Let us now load the dataset that is available as a .h5 file.\n",
        "- Split the data into the train and the test dataset."
      ]
    },
    {
      "cell_type": "code",
      "source": [
        "import h5py\n",
        "\n",
        "path = '/content/drive/MyDrive/Colab Notebooks/Project/SVHN_single_grey1.h5'\n",
        "\n",
        "# Open the file in read mode\n",
        "with h5py.File(path, 'r') as f:\n",
        "    # List all groups (you can think of groups like directories)\n",
        "    print(\"Keys: %s\" % f.keys())\n",
        "    a_group_key = list(f.keys())[0]\n",
        "\n",
        "    # Get the data from the group\n",
        "    data = list(f[a_group_key])\n",
        "\n"
      ],
      "metadata": {
        "colab": {
          "base_uri": "https://localhost:8080/"
        },
        "id": "0VYELxD454Cf",
        "outputId": "da7dc3ac-ee57-456f-916f-6de8688a3653"
      },
      "execution_count": null,
      "outputs": [
        {
          "output_type": "stream",
          "name": "stdout",
          "text": [
            "Keys: <KeysViewHDF5 ['X_test', 'X_train', 'X_val', 'y_test', 'y_train', 'y_val']>\n"
          ]
        }
      ]
    },
    {
      "cell_type": "markdown",
      "metadata": {
        "id": "hVe0CYpUgj7w"
      },
      "source": [
        "Check the number of images in the training and the testing dataset."
      ]
    },
    {
      "cell_type": "code",
      "execution_count": null,
      "metadata": {
        "id": "y3lwKpOefkpA",
        "colab": {
          "base_uri": "https://localhost:8080/"
        },
        "outputId": "e09c05be-3483-4a0e-9bd3-70a3d34ef0f3"
      },
      "outputs": [
        {
          "output_type": "stream",
          "name": "stdout",
          "text": [
            "Number of images in the training dataset: 42000\n",
            "Number of images in the testing dataset: 18000\n"
          ]
        }
      ],
      "source": [
        "\n",
        "# Open the HDF5 file in read mode ('r') and assign it to the variable 'f'.\n",
        "# The 'with' statement ensures that the file is properly closed after its suite finishes.\n",
        "with h5py.File(path, 'r') as f:\n",
        "    # Access the 'X_train' dataset from the file and load all its contents into memory.\n",
        "    X_train = f['X_train'][:]\n",
        "\n",
        "    # Access the 'X_test' dataset from the file and load all its contents into memory.\n",
        "    X_test = f['X_test'][:]\n",
        "\n",
        "# The first dimension (index 0) in the shape of the dataset represents the number of images.\n",
        "num_images_train = X_train.shape[0]  # Number of training images\n",
        "num_images_test = X_test.shape[0]    # Number of testing images\n",
        "\n",
        "print(\"Number of images in the training dataset:\", num_images_train)\n",
        "print(\"Number of images in the testing dataset:\", num_images_test)\n"
      ]
    },
    {
      "cell_type": "markdown",
      "metadata": {
        "id": "akTUOfLlgwoM"
      },
      "source": [
        "**Observation:**"
      ]
    },
    {
      "cell_type": "markdown",
      "metadata": {
        "id": "kxODV6HKykuc"
      },
      "source": [
        "## **Visualizing images**\n",
        "\n",
        "- Use X_train to visualize the first 10 images.\n",
        "- Use Y_train to print the first 10 labels."
      ]
    },
    {
      "cell_type": "markdown",
      "source": [
        "**NOTE** : The images will be in a format suitable for direct visualization, such as a 3D array (with dimensions representing the number of images, height, width, and possibly color channels)."
      ],
      "metadata": {
        "id": "3khSrnww8ZMs"
      }
    },
    {
      "cell_type": "code",
      "execution_count": null,
      "metadata": {
        "id": "Bvsc8ytHsqWD",
        "colab": {
          "base_uri": "https://localhost:8080/",
          "height": 566
        },
        "outputId": "aa2d95a3-3411-4d12-ec5b-174b7af7d177"
      },
      "outputs": [
        {
          "output_type": "display_data",
          "data": {
            "text/plain": [
              "<Figure size 1500x600 with 10 Axes>"
            ],
            "image/png": "[encoded data removed]"
          },
          "metadata": {}
        },
        {
          "output_type": "stream",
          "name": "stdout",
          "text": [
            "First 10 labels: [2 6 7 4 4 0 3 0 7 3]\n"
          ]
        }
      ],
      "source": [
        "import matplotlib.pyplot as plt\n",
        "import h5py\n",
        "\n",
        "# Load the dataset\n",
        "path = '/content/drive/MyDrive/Colab Notebooks/Project/SVHN_single_grey1.h5'\n",
        "with h5py.File(path, 'r') as f:\n",
        "    X_train = f['X_train'][:]\n",
        "    Y_train = f['y_train'][:]\n",
        "\n",
        "# Plot the first 10 images\n",
        "plt.figure(figsize=(15, 6))  # Set the figure size to be large enough to show details\n",
        "for i in range(10):\n",
        "    plt.subplot(2, 5, i + 1)  # Arrange the plots in 2 rows and 5 columns\n",
        "    plt.imshow(X_train[i], cmap='gray')  # Display the ith image. Use cmap='gray' if it's a grayscale image\n",
        "    plt.title(f\"Label: {Y_train[i]}\")  # Set the title to show the corresponding label\n",
        "    plt.axis('off')  # Turn off the axis to make it cleaner\n",
        "\n",
        "plt.tight_layout()\n",
        "plt.show()\n",
        "\n",
        "# Print the first 10 labels\n",
        "print(\"First 10 labels:\", Y_train[:10])\n"
      ]
    },
    {
      "cell_type": "markdown",
      "metadata": {
        "id": "kzoyeXHOy80N"
      },
      "source": [
        "## **Data preparation**\n",
        "\n",
        "- Print the shape and the array of pixels for the first image in the training dataset.\n",
        "- Normalize the train and the test dataset by dividing by 255.\n",
        "- Print the new shapes of the train and the test dataset.\n",
        "- One-hot encode the target variable."
      ]
    },
    {
      "cell_type": "code",
      "execution_count": null,
      "metadata": {
        "id": "NqndzQXng9rL",
        "colab": {
          "base_uri": "https://localhost:8080/"
        },
        "outputId": "5c38fa91-b57c-4159-8731-cd22b4365eb6"
      },
      "outputs": [
        {
          "output_type": "stream",
          "name": "stdout",
          "text": [
            "Shape of the first training image: (32, 32)\n",
            "Array of pixels for the first training image:\n",
            " [[ 33.0704  30.2601  26.852  ...  71.4471  58.2204  42.9939]\n",
            " [ 25.2283  25.5533  29.9765 ... 113.0209 103.3639  84.2949]\n",
            " [ 26.2775  22.6137  40.4763 ... 113.3028 121.775  115.4228]\n",
            " ...\n",
            " [ 28.5502  36.212   45.0801 ...  24.1359  25.0927  26.0603]\n",
            " [ 38.4352  26.4733  23.2717 ...  28.1094  29.4683  30.0661]\n",
            " [ 50.2984  26.0773  24.0389 ...  49.6682  50.853   53.0377]]\n"
          ]
        }
      ],
      "source": [
        "from tensorflow.keras.utils import to_categorical\n",
        "\n",
        "with h5py.File(path, 'r') as f:\n",
        "    X_train = f['X_train'][:]\n",
        "    X_test = f['X_test'][:]\n",
        "    y_train = f['y_train'][:]\n",
        "    y_test = f['y_test'][:]\n",
        "\n",
        "# Print the shape and pixel array of the first image in the training dataset\n",
        "print(\"Shape of the first training image:\", X_train[0].shape)\n",
        "print(\"Array of pixels for the first training image:\\n\", X_train[0])\n",
        "\n",
        "\n",
        "\n"
      ]
    },
    {
      "cell_type": "markdown",
      "metadata": {
        "id": "f4CQkKtQ0XII"
      },
      "source": [
        "### **Normalize the train and the test data**"
      ]
    },
    {
      "cell_type": "code",
      "execution_count": null,
      "metadata": {
        "id": "q_yUUTp_mUzB"
      },
      "outputs": [],
      "source": [
        "# Normalize the train and test datasets by dividing by 255\n",
        "X_train_normalized = X_train.astype('float32') / 255.0\n",
        "X_test_normalized = X_test.astype('float32') / 255.0\n",
        "\n",
        "\n"
      ]
    },
    {
      "cell_type": "markdown",
      "metadata": {
        "id": "YSlYN6pb8kMY"
      },
      "source": [
        "Print the shapes of Training and Test data"
      ]
    },
    {
      "cell_type": "code",
      "execution_count": null,
      "metadata": {
        "id": "t7FSqOpamWkH",
        "colab": {
          "base_uri": "https://localhost:8080/"
        },
        "outputId": "461dc3b2-a92a-4db3-a394-4cf1e5e91501"
      },
      "outputs": [
        {
          "output_type": "stream",
          "name": "stdout",
          "text": [
            "Shape of the normalized training dataset: (42000, 32, 32)\n",
            "Shape of the normalized testing dataset: (18000, 32, 32)\n"
          ]
        }
      ],
      "source": [
        "# Print the new shapes of the train and test datasets\n",
        "print(\"Shape of the normalized training dataset:\", X_train_normalized.shape)\n",
        "print(\"Shape of the normalized testing dataset:\", X_test_normalized.shape)\n",
        "\n"
      ]
    },
    {
      "cell_type": "markdown",
      "metadata": {
        "id": "0uLxXBpz81vk"
      },
      "source": [
        "### **One-hot encode output**"
      ]
    },
    {
      "cell_type": "code",
      "execution_count": null,
      "metadata": {
        "id": "zL0lYER4sqWw",
        "colab": {
          "base_uri": "https://localhost:8080/"
        },
        "outputId": "41dba8a6-2437-44b6-b701-c67be49a4938"
      },
      "outputs": [
        {
          "output_type": "stream",
          "name": "stdout",
          "text": [
            "First 10 entries of the one-hot encoded training labels:\n",
            " [[0. 0. 1. 0. 0. 0. 0. 0. 0. 0.]\n",
            " [0. 0. 0. 0. 0. 0. 1. 0. 0. 0.]\n",
            " [0. 0. 0. 0. 0. 0. 0. 1. 0. 0.]\n",
            " [0. 0. 0. 0. 1. 0. 0. 0. 0. 0.]\n",
            " [0. 0. 0. 0. 1. 0. 0. 0. 0. 0.]\n",
            " [1. 0. 0. 0. 0. 0. 0. 0. 0. 0.]\n",
            " [0. 0. 0. 1. 0. 0. 0. 0. 0. 0.]\n",
            " [1. 0. 0. 0. 0. 0. 0. 0. 0. 0.]\n",
            " [0. 0. 0. 0. 0. 0. 0. 1. 0. 0.]\n",
            " [0. 0. 0. 1. 0. 0. 0. 0. 0. 0.]]\n"
          ]
        }
      ],
      "source": [
        "# One-hot encode the target variable\n",
        "y_train_encoded = to_categorical(y_train)\n",
        "y_test_encoded = to_categorical(y_test)\n",
        "\n",
        "# Check the first encoded target variable\n",
        "print(\"First 10 entries of the one-hot encoded training labels:\\n\", y_train_encoded[:10])"
      ]
    },
    {
      "cell_type": "markdown",
      "metadata": {
        "id": "ViqPOTquCF76"
      },
      "source": [
        "**Observation:**\n",
        "\n",
        "\n",
        "1.   Distribution of Class: From the given one-hot encoded labels, we can observe the distribution of the first few classes. For example, we see a few instances of the class represented by [0., 1., 0., 0., 0., 0., 0., 0., 0., 0.] which corresponds to the digit \"1\" if we're indexing from zero. This immediate snapshot suggests a variation in the class distribution, but we would need to look at the entire dataset to draw meaningful conclusions about class balance.\n",
        "2.   Model: The length of the one-hot encoded vectors also tells us the number of neurons needed in the output layer of the neural network for classification. In this case, it looks like there are 10 classes (assuming this dataset corresponds to digits 0-9), so the model should have an output layer with 10 neurons.\n",
        "\n",
        "\n"
      ]
    },
    {
      "cell_type": "markdown",
      "metadata": {
        "id": "yH-gVrzuByNA"
      },
      "source": [
        "## **Model Building**\n",
        "\n",
        "Now that we have done the data preprocessing, let's build an ANN model.\n",
        "\n",
        "### Fix the seed for random number generators"
      ]
    },
    {
      "cell_type": "code",
      "execution_count": null,
      "metadata": {
        "id": "BcKRwrGn0XIL"
      },
      "outputs": [],
      "source": [
        "import tensorflow as tf\n",
        "import numpy as np\n",
        "import random\n",
        "import os\n",
        "\n",
        "# Fixing the seed for random number generators\n",
        "seed_value= 42\n",
        "\n",
        "# 1. Set the `PYTHONHASHSEED` environment variable at a fixed value\n",
        "os.environ['PYTHONHASHSEED']=str(seed_value)\n",
        "\n",
        "# 2. Set the `python` built-in pseudo-random generator at a fixed value\n",
        "random.seed(seed_value)\n",
        "\n",
        "# 3. Set the `numpy` pseudo-random generator at a fixed value\n",
        "np.random.seed(seed_value)\n",
        "\n",
        "# 4. Set the `tensorflow` pseudo-random generator at a fixed value\n",
        "tf.random.set_seed(seed_value)\n",
        "\n",
        "\n"
      ]
    },
    {
      "cell_type": "markdown",
      "metadata": {
        "id": "UJDUoaEj1d6e"
      },
      "source": [
        "### **Model Architecture**\n",
        "- Write a function that returns a sequential model with the following architecture:\n",
        " - First hidden layer with **64 nodes and the relu activation** and the **input shape = (1024, )**\n",
        " - Second hidden layer with **32 nodes and the relu activation**\n",
        " - Output layer with **activation as 'softmax' and number of nodes equal to the number of classes, i.e., 10**\n",
        " - Compile the model with the **loss equal to categorical_crossentropy, optimizer equal to Adam(learning_rate = 0.001), and metric equal to 'accuracy'**. Do not fit the model here, just return the compiled model.\n",
        "- Call the nn_model_1 function and store the model in a new variable.\n",
        "- Print the summary of the model.\n",
        "- Fit on the train data with a **validation split of 0.2, batch size = 128, verbose = 1, and epochs = 20**. Store the model building history to use later for visualization."
      ]
    },
    {
      "cell_type": "markdown",
      "metadata": {
        "id": "A48z6ucF0XIP"
      },
      "source": [
        "### **Build and train an ANN model as per the above mentioned architecture.**"
      ]
    },
    {
      "cell_type": "code",
      "execution_count": null,
      "metadata": {
        "id": "Cmi81Gr5sqW-",
        "colab": {
          "base_uri": "https://localhost:8080/"
        },
        "outputId": "3e357eae-5592-4de3-a228-9fe903a757af"
      },
      "outputs": [
        {
          "output_type": "stream",
          "name": "stdout",
          "text": [
            "Model: \"sequential\"\n",
            "_________________________________________________________________\n",
            " Layer (type)                Output Shape              Param #   \n",
            "=================================================================\n",
            " dense (Dense)               (None, 64)                65600     \n",
            "                                                                 \n",
            " dense_1 (Dense)             (None, 32)                2080      \n",
            "                                                                 \n",
            " dense_2 (Dense)             (None, 10)                330       \n",
            "                                                                 \n",
            "=================================================================\n",
            "Total params: 68,010\n",
            "Trainable params: 68,010\n",
            "Non-trainable params: 0\n",
            "_________________________________________________________________\n",
            "Epoch 1/20\n",
            "263/263 [==============================] - 3s 9ms/step - loss: 2.2934 - accuracy: 0.1233 - val_loss: 2.2324 - val_accuracy: 0.1744\n",
            "Epoch 2/20\n",
            "263/263 [==============================] - 2s 7ms/step - loss: 2.0774 - accuracy: 0.2509 - val_loss: 1.9318 - val_accuracy: 0.3089\n",
            "Epoch 3/20\n",
            "263/263 [==============================] - 1s 5ms/step - loss: 1.8679 - accuracy: 0.3405 - val_loss: 1.7779 - val_accuracy: 0.3869\n",
            "Epoch 4/20\n",
            "263/263 [==============================] - 1s 5ms/step - loss: 1.6573 - accuracy: 0.4391 - val_loss: 1.5288 - val_accuracy: 0.4907\n",
            "Epoch 5/20\n",
            "263/263 [==============================] - 1s 5ms/step - loss: 1.4635 - accuracy: 0.5180 - val_loss: 1.4202 - val_accuracy: 0.5255\n",
            "Epoch 6/20\n",
            "263/263 [==============================] - 1s 5ms/step - loss: 1.3588 - accuracy: 0.5568 - val_loss: 1.3240 - val_accuracy: 0.5768\n",
            "Epoch 7/20\n",
            "263/263 [==============================] - 1s 5ms/step - loss: 1.2895 - accuracy: 0.5839 - val_loss: 1.2558 - val_accuracy: 0.6013\n",
            "Epoch 8/20\n",
            "263/263 [==============================] - 1s 5ms/step - loss: 1.2375 - accuracy: 0.6044 - val_loss: 1.2217 - val_accuracy: 0.6221\n",
            "Epoch 9/20\n",
            "263/263 [==============================] - 1s 5ms/step - loss: 1.1990 - accuracy: 0.6206 - val_loss: 1.1674 - val_accuracy: 0.6330\n",
            "Epoch 10/20\n",
            "263/263 [==============================] - 2s 7ms/step - loss: 1.1666 - accuracy: 0.6334 - val_loss: 1.1484 - val_accuracy: 0.6420\n",
            "Epoch 11/20\n",
            "263/263 [==============================] - 2s 8ms/step - loss: 1.1465 - accuracy: 0.6399 - val_loss: 1.1256 - val_accuracy: 0.6462\n",
            "Epoch 12/20\n",
            "263/263 [==============================] - 2s 6ms/step - loss: 1.1239 - accuracy: 0.6485 - val_loss: 1.1110 - val_accuracy: 0.6533\n",
            "Epoch 13/20\n",
            "263/263 [==============================] - 1s 5ms/step - loss: 1.1017 - accuracy: 0.6589 - val_loss: 1.0951 - val_accuracy: 0.6612\n",
            "Epoch 14/20\n",
            "263/263 [==============================] - 1s 5ms/step - loss: 1.0981 - accuracy: 0.6596 - val_loss: 1.0940 - val_accuracy: 0.6620\n",
            "Epoch 15/20\n",
            "263/263 [==============================] - 1s 5ms/step - loss: 1.0854 - accuracy: 0.6636 - val_loss: 1.0948 - val_accuracy: 0.6650\n",
            "Epoch 16/20\n",
            "263/263 [==============================] - 1s 5ms/step - loss: 1.0715 - accuracy: 0.6682 - val_loss: 1.1295 - val_accuracy: 0.6475\n",
            "Epoch 17/20\n",
            "263/263 [==============================] - 1s 5ms/step - loss: 1.0626 - accuracy: 0.6713 - val_loss: 1.0618 - val_accuracy: 0.6744\n",
            "Epoch 18/20\n",
            "263/263 [==============================] - 1s 5ms/step - loss: 1.0535 - accuracy: 0.6746 - val_loss: 1.0626 - val_accuracy: 0.6702\n",
            "Epoch 19/20\n",
            "263/263 [==============================] - 2s 6ms/step - loss: 1.0486 - accuracy: 0.6745 - val_loss: 1.0610 - val_accuracy: 0.6736\n",
            "Epoch 20/20\n",
            "263/263 [==============================] - 2s 8ms/step - loss: 1.0420 - accuracy: 0.6770 - val_loss: 1.0535 - val_accuracy: 0.6745\n"
          ]
        }
      ],
      "source": [
        "import tensorflow as tf\n",
        "from tensorflow.keras.models import Sequential\n",
        "from tensorflow.keras.layers import Dense\n",
        "from tensorflow.keras.optimizers import Adam\n",
        "\n",
        "# Define the function to create the model\n",
        "def nn_model_1(input_shape, num_classes):\n",
        "    model = Sequential([\n",
        "        Dense(64, activation='relu', input_shape=input_shape),  # First hidden layer with 64 nodes\n",
        "        Dense(32, activation='relu'),                            # Second hidden layer with 32 nodes\n",
        "        Dense(num_classes, activation='softmax')                 # Output layer with 'softmax' activation\n",
        "    ])\n",
        "\n",
        "    # Compile the model\n",
        "    model.compile(\n",
        "        loss='categorical_crossentropy',\n",
        "        optimizer=Adam(learning_rate=0.001),\n",
        "        metrics=['accuracy']\n",
        "    )\n",
        "\n",
        "    return model\n",
        "\n",
        "# Call the nn_model_1 function and store the model in a new variable\n",
        "model = nn_model_1((1024,), 10)\n",
        "\n",
        "# Print the summary of the model\n",
        "model.summary()\n",
        "\n",
        "# Data is preprocessed and reshaped to have the shape (number of samples, 1024)\n",
        "X_train_normalized = X_train_normalized.reshape(-1, 1024)  # Reshape from (num_samples, 32, 32) to (num_samples, 1024)\n",
        "\n",
        "# Fit the model on the training data\n",
        "history = model.fit(\n",
        "    X_train_normalized, y_train_encoded,  # X_train_normalized should have shape (-1, 1024)\n",
        "    validation_split=0.2,\n",
        "    batch_size=128,\n",
        "    verbose=1,\n",
        "    epochs=20\n",
        ")\n",
        "\n",
        "# history contains the logs of the training process, which can be used for visualization later\n"
      ]
    },
    {
      "cell_type": "markdown",
      "metadata": {
        "id": "MeF8XSWz0XIU"
      },
      "source": [
        "### **Plot the Training and Validation Accuracies and write down your Observations.**"
      ]
    },
    {
      "cell_type": "code",
      "source": [
        "import matplotlib.pyplot as plt\n",
        "\n",
        "\n",
        "\n",
        "# Extract accuracy and validation accuracy\n",
        "acc = history.history['accuracy']\n",
        "val_acc = history.history['val_accuracy']\n",
        "\n",
        "# Extract the number of epochs\n",
        "epochs = range(1, len(acc) + 1)\n",
        "\n",
        "# Plot accuracy for each epoch\n",
        "plt.plot(epochs, acc, 'bo', label='Training acc')\n",
        "plt.plot(epochs, val_acc, 'b', label='Validation acc')\n",
        "plt.title('Training and validation accuracy')\n",
        "plt.xlabel('Epochs')\n",
        "plt.ylabel('Accuracy')\n",
        "plt.legend()\n",
        "\n",
        "plt.show()\n"
      ],
      "metadata": {
        "colab": {
          "base_uri": "https://localhost:8080/",
          "height": 472
        },
        "id": "ncmRN7oaI_4I",
        "outputId": "735bbd11-2bed-406e-df83-189f540a1ea1"
      },
      "execution_count": null,
      "outputs": [
        {
          "output_type": "display_data",
          "data": {
            "text/plain": [
              "<Figure size 640x480 with 1 Axes>"
            ],
            "image/png": "[encoded data removed]"
          },
          "metadata": {}
        }
      ]
    },
    {
      "cell_type": "markdown",
      "metadata": {
        "id": "pGBbQpLONX7k"
      },
      "source": [
        "**Observations:_______**\n",
        "\n",
        "\n",
        "\n",
        "1.   Both the training and validation accuracy increase as the number of epochs grows, indicating that the model is learning and improving its predictions over time.\n",
        "2. After an initial rapid improvement, the increase in accuracy seems to slow down, and both curves begin to plateau. Model is starting to converge and is finding a stable set of parameters (weights and biases) that predict the target variable well.\n",
        "3. No Overfitting Indicated; overfitting is typically indicated by a decrease in validation accuracy while training accuracy continues to increase.\n",
        "\n",
        "NOTE: Experimenting with more epochs could be beneficial to see if the model can improve further.\n"
      ]
    },
    {
      "cell_type": "markdown",
      "metadata": {
        "id": "z0qgLMBZm5-K"
      },
      "source": [
        "Let's build one more model with higher complexity and see if we can improve the performance of the model.\n",
        "\n",
        "First, we need to clear the previous model's history from the Keras backend. Also, let's fix the seed again after clearing the backend."
      ]
    },
    {
      "cell_type": "code",
      "execution_count": null,
      "metadata": {
        "id": "I_ih3wEU9wIk"
      },
      "outputs": [],
      "source": [
        "import random\n",
        "import os\n",
        "\n",
        "# Import Keras backend to manage things like the session state\n",
        "from tensorflow.keras import backend as K\n",
        "\n",
        "# Clearing the current TensorFlow graph and starting a new one; helpful to avoid clutter from old models and layers\n",
        "K.clear_session()\n",
        "\n",
        "# Set a specific number to make the random processes repeatable\n",
        "seed_value = 42\n",
        "\n",
        "# Ensure that Python’s hash-based operations are consistent and repeatable\n",
        "os.environ['PYTHONHASHSEED'] = str(seed_value)\n",
        "\n",
        "# Make Python's random number generation repeatable by setting a seed\n",
        "random.seed(seed_value)\n",
        "\n",
        "# Ensure NumPy's random numbers are predictable by setting a seed\n",
        "np.random.seed(seed_value)\n",
        "\n",
        "# Make TensorFlow's random number generation consistent by setting a seed\n",
        "tf.random.set_seed(seed_value)\n"
      ]
    },
    {
      "cell_type": "markdown",
      "metadata": {
        "id": "lT6o3TIKuCtk"
      },
      "source": [
        "### **Second Model Architecture**\n",
        "- Write a function that returns a sequential model with the following architecture:\n",
        " - First hidden layer with **256 nodes and the relu activation** and the **input shape = (1024, )**\n",
        " - Second hidden layer with **128 nodes and the relu activation**\n",
        " - Add the **Dropout layer with the rate equal to 0.2**\n",
        " - Third hidden layer with **64 nodes and the relu activation**\n",
        " - Fourth hidden layer with **64 nodes and the relu activation**\n",
        " - Fifth hidden layer with **32 nodes and the relu activation**\n",
        " - Add the **BatchNormalization layer**\n",
        " - Output layer with **activation as 'softmax' and number of nodes equal to the number of classes, i.e., 10**\n",
        " -Compile the model with the **loss equal to categorical_crossentropy, optimizer equal to Adam(learning_rate = 0.0005), and metric equal to 'accuracy'**. Do not fit the model here, just return the compiled model.\n",
        "- Call the nn_model_2 function and store the model in a new variable.\n",
        "- Print the summary of the model.\n",
        "- Fit on the train data with a **validation split of 0.2, batch size = 128, verbose = 1, and epochs = 30**. Store the model building history to use later for visualization."
      ]
    },
    {
      "cell_type": "markdown",
      "metadata": {
        "id": "f-ZjNBmH0XIV"
      },
      "source": [
        "### **Build and train the new ANN model as per the above mentioned architecture**"
      ]
    },
    {
      "cell_type": "code",
      "execution_count": null,
      "metadata": {
        "id": "EEPYLFIPnSDP",
        "colab": {
          "base_uri": "https://localhost:8080/"
        },
        "outputId": "e746487c-078c-4da3-c5ca-bc7386ab6035"
      },
      "outputs": [
        {
          "output_type": "stream",
          "name": "stdout",
          "text": [
            "Model: \"sequential\"\n",
            "_________________________________________________________________\n",
            " Layer (type)                Output Shape              Param #   \n",
            "=================================================================\n",
            " dense (Dense)               (None, 256)               262400    \n",
            "                                                                 \n",
            " dense_1 (Dense)             (None, 128)               32896     \n",
            "                                                                 \n",
            " dropout (Dropout)           (None, 128)               0         \n",
            "                                                                 \n",
            " dense_2 (Dense)             (None, 64)                8256      \n",
            "                                                                 \n",
            " dense_3 (Dense)             (None, 64)                4160      \n",
            "                                                                 \n",
            " dense_4 (Dense)             (None, 32)                2080      \n",
            "                                                                 \n",
            " batch_normalization (BatchN  (None, 32)               128       \n",
            " ormalization)                                                   \n",
            "                                                                 \n",
            " dense_5 (Dense)             (None, 10)                330       \n",
            "                                                                 \n",
            "=================================================================\n",
            "Total params: 310,250\n",
            "Trainable params: 310,186\n",
            "Non-trainable params: 64\n",
            "_________________________________________________________________\n",
            "Epoch 1/30\n",
            "263/263 [==============================] - 5s 14ms/step - loss: 2.3301 - accuracy: 0.1020 - val_loss: 2.3126 - val_accuracy: 0.0969\n",
            "Epoch 2/30\n",
            "263/263 [==============================] - 4s 16ms/step - loss: 2.3040 - accuracy: 0.1043 - val_loss: 2.3018 - val_accuracy: 0.1049\n",
            "Epoch 3/30\n",
            "263/263 [==============================] - 3s 11ms/step - loss: 2.1035 - accuracy: 0.2029 - val_loss: 1.9555 - val_accuracy: 0.2789\n",
            "Epoch 4/30\n",
            "263/263 [==============================] - 3s 11ms/step - loss: 1.6221 - accuracy: 0.4240 - val_loss: 1.5954 - val_accuracy: 0.4607\n",
            "Epoch 5/30\n",
            "263/263 [==============================] - 3s 13ms/step - loss: 1.3656 - accuracy: 0.5424 - val_loss: 1.2720 - val_accuracy: 0.5899\n",
            "Epoch 6/30\n",
            "263/263 [==============================] - 4s 16ms/step - loss: 1.1958 - accuracy: 0.6150 - val_loss: 1.1094 - val_accuracy: 0.6462\n",
            "Epoch 7/30\n",
            "263/263 [==============================] - 3s 12ms/step - loss: 1.1250 - accuracy: 0.6400 - val_loss: 1.0664 - val_accuracy: 0.6543\n",
            "Epoch 8/30\n",
            "263/263 [==============================] - 3s 12ms/step - loss: 1.0609 - accuracy: 0.6599 - val_loss: 1.0290 - val_accuracy: 0.6744\n",
            "Epoch 9/30\n",
            "263/263 [==============================] - 3s 13ms/step - loss: 1.0168 - accuracy: 0.6772 - val_loss: 0.9769 - val_accuracy: 0.6899\n",
            "Epoch 10/30\n",
            "263/263 [==============================] - 4s 16ms/step - loss: 0.9841 - accuracy: 0.6875 - val_loss: 0.9503 - val_accuracy: 0.7006\n",
            "Epoch 11/30\n",
            "263/263 [==============================] - 3s 12ms/step - loss: 0.9636 - accuracy: 0.6936 - val_loss: 0.9347 - val_accuracy: 0.7062\n",
            "Epoch 12/30\n",
            "263/263 [==============================] - 3s 12ms/step - loss: 0.9301 - accuracy: 0.7054 - val_loss: 0.9375 - val_accuracy: 0.7033\n",
            "Epoch 13/30\n",
            "263/263 [==============================] - 3s 13ms/step - loss: 0.9034 - accuracy: 0.7145 - val_loss: 0.9450 - val_accuracy: 0.6981\n",
            "Epoch 14/30\n",
            "263/263 [==============================] - 4s 16ms/step - loss: 0.8967 - accuracy: 0.7169 - val_loss: 0.8675 - val_accuracy: 0.7287\n",
            "Epoch 15/30\n",
            "263/263 [==============================] - 3s 12ms/step - loss: 0.8766 - accuracy: 0.7224 - val_loss: 0.8910 - val_accuracy: 0.7164\n",
            "Epoch 16/30\n",
            "263/263 [==============================] - 3s 12ms/step - loss: 0.8658 - accuracy: 0.7253 - val_loss: 0.8921 - val_accuracy: 0.7094\n",
            "Epoch 17/30\n",
            "263/263 [==============================] - 3s 12ms/step - loss: 0.8518 - accuracy: 0.7298 - val_loss: 0.8501 - val_accuracy: 0.7351\n",
            "Epoch 18/30\n",
            "263/263 [==============================] - 5s 17ms/step - loss: 0.8406 - accuracy: 0.7337 - val_loss: 0.8205 - val_accuracy: 0.7425\n",
            "Epoch 19/30\n",
            "263/263 [==============================] - 3s 12ms/step - loss: 0.8258 - accuracy: 0.7385 - val_loss: 0.8407 - val_accuracy: 0.7329\n",
            "Epoch 20/30\n",
            "263/263 [==============================] - 3s 12ms/step - loss: 0.8200 - accuracy: 0.7383 - val_loss: 0.8093 - val_accuracy: 0.7513\n",
            "Epoch 21/30\n",
            "263/263 [==============================] - 3s 11ms/step - loss: 0.8161 - accuracy: 0.7402 - val_loss: 0.8469 - val_accuracy: 0.7436\n",
            "Epoch 22/30\n",
            "263/263 [==============================] - 4s 17ms/step - loss: 0.8058 - accuracy: 0.7432 - val_loss: 0.8235 - val_accuracy: 0.7415\n",
            "Epoch 23/30\n",
            "263/263 [==============================] - 3s 11ms/step - loss: 0.8007 - accuracy: 0.7436 - val_loss: 0.8027 - val_accuracy: 0.7533\n",
            "Epoch 24/30\n",
            "263/263 [==============================] - 3s 12ms/step - loss: 0.7920 - accuracy: 0.7472 - val_loss: 0.7534 - val_accuracy: 0.7664\n",
            "Epoch 25/30\n",
            "263/263 [==============================] - 3s 12ms/step - loss: 0.7714 - accuracy: 0.7532 - val_loss: 0.7814 - val_accuracy: 0.7542\n",
            "Epoch 26/30\n",
            "263/263 [==============================] - 5s 17ms/step - loss: 0.7757 - accuracy: 0.7538 - val_loss: 0.7556 - val_accuracy: 0.7594\n",
            "Epoch 27/30\n",
            "263/263 [==============================] - 3s 12ms/step - loss: 0.7541 - accuracy: 0.7613 - val_loss: 0.8314 - val_accuracy: 0.7412\n",
            "Epoch 28/30\n",
            "263/263 [==============================] - 3s 11ms/step - loss: 0.7613 - accuracy: 0.7589 - val_loss: 0.7555 - val_accuracy: 0.7686\n",
            "Epoch 29/30\n",
            "263/263 [==============================] - 3s 12ms/step - loss: 0.7594 - accuracy: 0.7593 - val_loss: 0.7642 - val_accuracy: 0.7637\n",
            "Epoch 30/30\n",
            "263/263 [==============================] - 4s 17ms/step - loss: 0.7430 - accuracy: 0.7625 - val_loss: 0.7616 - val_accuracy: 0.7629\n"
          ]
        }
      ],
      "source": [
        "from tensorflow.keras.models import Sequential\n",
        "from tensorflow.keras.layers import Dense, Dropout, BatchNormalization\n",
        "from tensorflow.keras.optimizers import Adam\n",
        "\n",
        "def nn_model_2(input_shape, num_classes):\n",
        "    model = Sequential([\n",
        "        Dense(256, activation='relu', input_shape=input_shape),  # First hidden layer with 256 nodes\n",
        "        Dense(128, activation='relu'),  # Second hidden layer with 128 nodes\n",
        "        Dropout(0.2),  # Dropout layer with 20% of the nodes dropped out\n",
        "        Dense(64, activation='relu'),  # Third hidden layer with 64 nodes\n",
        "        Dense(64, activation='relu'),  # Fourth hidden layer with 64 nodes\n",
        "        Dense(32, activation='relu'),  # Fifth hidden layer with 32 nodes\n",
        "        BatchNormalization(),  # Batch Normalization layer\n",
        "        Dense(num_classes, activation='softmax')  # Output layer with softmax activation\n",
        "    ])\n",
        "\n",
        "    model.compile(\n",
        "        loss='categorical_crossentropy',\n",
        "        optimizer=Adam(learning_rate=0.0005),\n",
        "        metrics=['accuracy']\n",
        "    )\n",
        "\n",
        "    return model\n",
        "\n",
        "# Assuming X_train_normalized and y_train_encoded are already defined and preprocessed\n",
        "model_2 = nn_model_2((1024,), 10)\n",
        "model_2.summary()\n",
        "\n",
        "# Reshape data if necessary, fit the model, and store the history\n",
        "X_train_reshaped = X_train_normalized.reshape(-1, 1024)  # Adjust this based on your data's shape\n",
        "history_2 = model_2.fit(\n",
        "    X_train_reshaped, y_train_encoded,\n",
        "    validation_split=0.2,\n",
        "    batch_size=128,\n",
        "    verbose=1,\n",
        "    epochs=30\n",
        ")\n"
      ]
    },
    {
      "cell_type": "markdown",
      "metadata": {
        "id": "ZJYsvjmw0XIX"
      },
      "source": [
        "### **Plot the Training and Validation Accuracies and write down your Observations.**"
      ]
    },
    {
      "cell_type": "code",
      "execution_count": null,
      "metadata": {
        "id": "01ig6BrF1KVy",
        "colab": {
          "base_uri": "https://localhost:8080/",
          "height": 564
        },
        "outputId": "35f2c010-709f-4866-bd4e-12b72666960b"
      },
      "outputs": [
        {
          "output_type": "display_data",
          "data": {
            "text/plain": [
              "<Figure size 1000x600 with 1 Axes>"
            ],
            "image/png": "[encoded data removed]"
          },
          "metadata": {}
        }
      ],
      "source": [
        "import matplotlib.pyplot as plt\n",
        "\n",
        "# Extract accuracy and validation accuracy from the history object\n",
        "training_accuracy = history_2.history['accuracy']\n",
        "validation_accuracy = history_2.history['val_accuracy']\n",
        "\n",
        "# Generate a count of the number of epochs\n",
        "epochs = range(1, len(training_accuracy) + 1)\n",
        "\n",
        "# Plot training and validation accuracy\n",
        "plt.figure(figsize=(10, 6))\n",
        "plt.plot(epochs, training_accuracy, 'bo-', label='Training Accuracy')\n",
        "plt.plot(epochs, validation_accuracy, 'ro-', label='Validation Accuracy')\n",
        "plt.title('Training and Validation Accuracy')\n",
        "plt.xlabel('Epochs')\n",
        "plt.ylabel('Accuracy')\n",
        "plt.legend()\n",
        "plt.show()\n"
      ]
    },
    {
      "cell_type": "markdown",
      "metadata": {
        "id": "VPW1LlD61RDn"
      },
      "source": [
        "**Observations:_______**\n",
        "\n",
        "1. There’s a sharp increase in both training and validation accuracies during the initial epochs. This suggests that the model is learning from the data quickly.\n",
        "2. The fact that both the training and validation accuracies level off suggests that the model is nearing its performance limit\n",
        "3. The validation accuracy closely tracks the training accuracy, which is a good sign that the model is generalizing well and not overfitting significantly."
      ]
    },
    {
      "cell_type": "markdown",
      "metadata": {
        "id": "8kuXx9Bvu00f"
      },
      "source": [
        "## **Predictions on the test data**\n",
        "\n",
        "- Make predictions on the test set using the second model.\n",
        "- Print the obtained results using the classification report and the confusion matrix.\n",
        "- Final observations on the obtained results."
      ]
    },
    {
      "cell_type": "code",
      "execution_count": null,
      "metadata": {
        "id": "xbWMEtTj5Ad0",
        "colab": {
          "base_uri": "https://localhost:8080/"
        },
        "outputId": "e495338a-e135-467f-d749-d95306058540"
      },
      "outputs": [
        {
          "output_type": "stream",
          "name": "stdout",
          "text": [
            "563/563 [==============================] - 1s 2ms/step\n"
          ]
        }
      ],
      "source": [
        "from sklearn.metrics import classification_report, confusion_matrix\n",
        "import numpy as np\n",
        "\n",
        "# X_test_normalized is test data that needs to be reshaped\n",
        "X_test_reshaped = X_test_normalized.reshape(-1, 1024)  # Reshape to (-1, 1024) if images are 32x32 pixels\n",
        "\n",
        "# Make predictions using the reshaped test data\n",
        "predictions = model_2.predict(X_test_reshaped)\n",
        "\n",
        "\n"
      ]
    },
    {
      "cell_type": "markdown",
      "metadata": {
        "id": "i3li8Ib08yts"
      },
      "source": [
        "**Note:** Earlier, we noticed that each entry of the target variable is a one-hot encoded vector but to print the classification report and confusion matrix, we must convert each entry of y_test to a single label."
      ]
    },
    {
      "cell_type": "code",
      "execution_count": null,
      "metadata": {
        "id": "NByu7uAQ8x9P"
      },
      "outputs": [],
      "source": [
        "\n",
        "# Convert predictions from one-hot encoded vectors to class labels\n",
        "predicted_classes = np.argmax(predictions, axis=1)\n",
        "\n",
        "# Convert one-hot encoded test labels back to class labels\n",
        "true_classes = np.argmax(y_test_encoded, axis=1)\n",
        "\n"
      ]
    },
    {
      "cell_type": "markdown",
      "metadata": {
        "id": "1_SIoopr0XIg"
      },
      "source": [
        "### **Print the classification report and the confusion matrix for the test predictions. Write your observations on the final results.**"
      ]
    },
    {
      "cell_type": "code",
      "execution_count": null,
      "metadata": {
        "id": "xRddeJ-3EHT1",
        "colab": {
          "base_uri": "https://localhost:8080/",
          "height": 1000
        },
        "outputId": "f0364d79-f0c8-44ac-98ff-d702753d0729"
      },
      "outputs": [
        {
          "output_type": "stream",
          "name": "stdout",
          "text": [
            "Classificaion report:               precision    recall  f1-score   support\n",
            "\n",
            "           0       0.84      0.75      0.79      1814\n",
            "           1       0.74      0.79      0.77      1828\n",
            "           2       0.77      0.80      0.79      1803\n",
            "           3       0.62      0.77      0.69      1719\n",
            "           4       0.79      0.83      0.81      1812\n",
            "           5       0.76      0.68      0.72      1768\n",
            "           6       0.80      0.74      0.77      1832\n",
            "           7       0.83      0.77      0.80      1808\n",
            "           8       0.72      0.72      0.72      1812\n",
            "           9       0.75      0.74      0.75      1804\n",
            "\n",
            "    accuracy                           0.76     18000\n",
            "   macro avg       0.76      0.76      0.76     18000\n",
            "weighted avg       0.76      0.76      0.76     18000\n",
            "\n",
            "[[1363   79   26   54   41   11   57   24   62   97]\n",
            " [  21 1451   32   85   88   16   22   53   33   27]\n",
            " [  10   35 1447  101   34   24    7   77   27   41]\n",
            " [  17   55   70 1323   28   92   14   43   49   28]\n",
            " [  19   69   35   44 1501   28   44    9   25   38]\n",
            " [  24   43   19  226   26 1198   75   17   84   56]\n",
            " [  71   42   19   32   76   80 1357   12  120   23]\n",
            " [  10   81  139   85   15   18   19 1388   18   35]\n",
            " [  37   54   50   70   56   45   87   15 1309   89]\n",
            " [  44   51   31  107   33   71   16   35   80 1336]]\n"
          ]
        },
        {
          "output_type": "display_data",
          "data": {
            "text/plain": [
              "<Figure size 1000x800 with 2 Axes>"
            ],
            "image/png": "[encoded data removed]"
          },
          "metadata": {}
        }
      ],
      "source": [
        "# Print the classification report\n",
        "print(\"Classificaion report:\", classification_report(true_classes, predicted_classes))\n",
        "\n",
        "# Compute and print the confusion matrix\n",
        "cm = confusion_matrix(true_classes, predicted_classes)\n",
        "print(cm)\n",
        "\n",
        "# (Optional) Plot the confusion matrix using matplotlib or seaborn\n",
        "import seaborn as sns\n",
        "import matplotlib.pyplot as plt\n",
        "\n",
        "plt.figure(figsize=(10, 8))\n",
        "sns.heatmap(cm, annot=True, fmt='d', cmap='Blues')\n",
        "plt.xlabel('Predicted Label')\n",
        "plt.ylabel('True Label')\n",
        "plt.title('Confusion Matrix')\n",
        "plt.show()"
      ]
    },
    {
      "cell_type": "markdown",
      "metadata": {
        "id": "DjErl4GA2u9s"
      },
      "source": [
        "**Final Observations:__________**\n",
        "\n",
        "1. The model achieves a consistent accuracy across different metrics (precision, recall, f1-score) with an overall accuracy of 0.76, indicating that the model performs fairly well.\n",
        "\n",
        "2. Class 5 has the lowest recall, which means it has more false negatives compared to other classes.\n",
        "\n",
        "3. Class 0 shows high precision, indicating that when the model predicts a 0, it is correct a significant portion of the time.\n",
        "\n",
        "4. Class 1 and class 4 exhibit high recall, meaning they have a lower number of false negatives; most of the actual 1s and 4s were correctly identified.\n",
        "Support:\n",
        "* The support column, which indicates the number of true occurrences of each class in the dataset, appears to be fairly balanced, which means there's a relatively even distribution of classes in the test set.\n",
        "* The highest numbers, which represent correct predictions, are on the diagonal. This is good as it indicates that the majority of predictions for each class are correct."
      ]
    },
    {
      "cell_type": "markdown",
      "metadata": {
        "id": "xkR4JioMsuIV"
      },
      "source": [
        "## **Using Convolutional Neural Networks**"
      ]
    },
    {
      "cell_type": "markdown",
      "metadata": {
        "id": "YN2YgkGL_6xQ"
      },
      "source": [
        "### **Load the dataset again and split the data into the train and the test dataset.**"
      ]
    },
    {
      "cell_type": "code",
      "execution_count": null,
      "metadata": {
        "id": "mqM204HbAjP2",
        "scrolled": true
      },
      "outputs": [],
      "source": [
        "\n",
        "# Open the file in read mode\n",
        "with h5py.File(path, 'r') as f:\n",
        "    # Load the datasets\n",
        "    X_train = f['X_train'][:]  # Training features\n",
        "    y_train = f['y_train'][:]  # Training labels\n",
        "    X_test = f['X_test'][:]    # Testing features\n",
        "    y_test = f['y_test'][:]    # Testing labels\n",
        "    # Load validation sets\n",
        "    X_val = f['X_val'][:]      # Validation features\n",
        "    y_val = f['y_val'][:]      # Validation labels\n"
      ]
    },
    {
      "cell_type": "markdown",
      "metadata": {
        "id": "6fPqF_xGAjQB"
      },
      "source": [
        "Check the number of images in the training and the testing dataset."
      ]
    },
    {
      "cell_type": "code",
      "execution_count": null,
      "metadata": {
        "id": "gTLJZWjPAjQB",
        "colab": {
          "base_uri": "https://localhost:8080/"
        },
        "outputId": "be9a35cb-cabe-465a-a484-7ed86e94767a"
      },
      "outputs": [
        {
          "output_type": "stream",
          "name": "stdout",
          "text": [
            "Number of images in the training dataset: 42000\n",
            "Number of images in the testing dataset: 18000\n"
          ]
        }
      ],
      "source": [
        "# The first dimension (index 0) in the shape of the dataset represents the number of images.\n",
        "num_images_train = X_train.shape[0]  # Number of training images\n",
        "num_images_test = X_test.shape[0]    # Number of testing images\n",
        "\n",
        "# Count of images in the respective datasets.\n",
        "print(\"Number of images in the training dataset:\", num_images_train)\n",
        "print(\"Number of images in the testing dataset:\", num_images_test)\n"
      ]
    },
    {
      "cell_type": "markdown",
      "metadata": {
        "id": "9qyMiP_rAjQB"
      },
      "source": [
        "**Observation:**\n"
      ]
    },
    {
      "cell_type": "markdown",
      "metadata": {
        "id": "OJndFfEVAjQG"
      },
      "source": [
        "## **Data preparation**\n",
        "\n",
        "- Print the shape and the array of pixels for the first image in the training dataset.\n",
        "- Reshape the train and the test dataset because we always have to give a 4D array as input to CNNs.\n",
        "- Normalize the train and the test dataset by dividing by 255.\n",
        "- Print the new shapes of the train and the test dataset.\n",
        "- One-hot encode the target variable."
      ]
    },
    {
      "cell_type": "code",
      "execution_count": null,
      "metadata": {
        "id": "W4uXqKz1AjQG",
        "colab": {
          "base_uri": "https://localhost:8080/"
        },
        "outputId": "9a4c52b0-ebc1-452b-f264-be865cbc99bb"
      },
      "outputs": [
        {
          "output_type": "stream",
          "name": "stdout",
          "text": [
            "Shape of the first training image: (32, 32, 1)\n",
            "Pixel values of the first training image:\n",
            " [[[ 33.0704]\n",
            "  [ 30.2601]\n",
            "  [ 26.852 ]\n",
            "  ...\n",
            "  [ 71.4471]\n",
            "  [ 58.2204]\n",
            "  [ 42.9939]]\n",
            "\n",
            " [[ 25.2283]\n",
            "  [ 25.5533]\n",
            "  [ 29.9765]\n",
            "  ...\n",
            "  [113.0209]\n",
            "  [103.3639]\n",
            "  [ 84.2949]]\n",
            "\n",
            " [[ 26.2775]\n",
            "  [ 22.6137]\n",
            "  [ 40.4763]\n",
            "  ...\n",
            "  [113.3028]\n",
            "  [121.775 ]\n",
            "  [115.4228]]\n",
            "\n",
            " ...\n",
            "\n",
            " [[ 28.5502]\n",
            "  [ 36.212 ]\n",
            "  [ 45.0801]\n",
            "  ...\n",
            "  [ 24.1359]\n",
            "  [ 25.0927]\n",
            "  [ 26.0603]]\n",
            "\n",
            " [[ 38.4352]\n",
            "  [ 26.4733]\n",
            "  [ 23.2717]\n",
            "  ...\n",
            "  [ 28.1094]\n",
            "  [ 29.4683]\n",
            "  [ 30.0661]]\n",
            "\n",
            " [[ 50.2984]\n",
            "  [ 26.0773]\n",
            "  [ 24.0389]\n",
            "  ...\n",
            "  [ 49.6682]\n",
            "  [ 50.853 ]\n",
            "  [ 53.0377]]]\n"
          ]
        }
      ],
      "source": [
        "import h5py\n",
        "import numpy as np\n",
        "from tensorflow.keras.utils import to_categorical\n",
        "\n",
        "\n",
        "\n",
        "# Print the shape and pixel values of the first image\n",
        "print(\"Shape of the first training image:\", X_train[0].shape)\n",
        "print(\"Pixel values of the first training image:\\n\", X_train[0])\n",
        "\n",
        "\n"
      ]
    },
    {
      "cell_type": "markdown",
      "metadata": {
        "id": "at30iiX1__7F"
      },
      "source": [
        "Reshape the dataset to be able to pass them to CNNs. Remember that we always have to give a 4D array as input to CNNs"
      ]
    },
    {
      "cell_type": "code",
      "execution_count": null,
      "metadata": {
        "id": "D9YPwf9ysqWU"
      },
      "outputs": [],
      "source": [
        "# Reshape the datasets to add a channel dimension (1 for grayscale)\n",
        "X_train = X_train.reshape((-1, 32, 32, 1))\n",
        "X_test = X_test.reshape((-1, 32, 32, 1))\n",
        "\n"
      ]
    },
    {
      "cell_type": "markdown",
      "metadata": {
        "id": "ODYnoLfaAEGx"
      },
      "source": [
        "Normalize inputs from 0-255 to 0-1"
      ]
    },
    {
      "cell_type": "code",
      "execution_count": null,
      "metadata": {
        "id": "eOGLAn40AjQG"
      },
      "outputs": [],
      "source": [
        "# Normalize the datasets by dividing by the max pixel value\n",
        "X_train_normalized = X_train.astype('float32') / 255.0\n",
        "X_test_normalized = X_test.astype('float32') / 255.0\n",
        "\n"
      ]
    },
    {
      "cell_type": "markdown",
      "metadata": {
        "id": "cS9T4HqjAoyM"
      },
      "source": [
        "Print New shape of Training and Test"
      ]
    },
    {
      "cell_type": "code",
      "execution_count": null,
      "metadata": {
        "id": "5qf8S5NQAjQG",
        "colab": {
          "base_uri": "https://localhost:8080/"
        },
        "outputId": "92770a82-1f9e-4a48-bdf7-d2802807088f"
      },
      "outputs": [
        {
          "output_type": "stream",
          "name": "stdout",
          "text": [
            "New shape of training data: (42000, 32, 32, 1)\n",
            "New shape of test data: (18000, 32, 32, 1)\n"
          ]
        }
      ],
      "source": [
        "# Print the new shapes of the datasets\n",
        "print(\"New shape of training data:\", X_train_normalized.shape)\n",
        "print(\"New shape of test data:\", X_test_normalized.shape)\n",
        "\n"
      ]
    },
    {
      "cell_type": "markdown",
      "metadata": {
        "id": "10QaOV-xR7Jn"
      },
      "source": [
        "### **One-hot encode the labels in the target variable y_train and y_test.**"
      ]
    },
    {
      "cell_type": "code",
      "execution_count": null,
      "metadata": {
        "id": "3KHWFWKMAjQH",
        "colab": {
          "base_uri": "https://localhost:8080/"
        },
        "outputId": "6aca0da4-5871-4d8a-ba02-96dec15f6bca"
      },
      "outputs": [
        {
          "output_type": "stream",
          "name": "stdout",
          "text": [
            "First 5 training labels, one-hot encoded:\n",
            " [[0. 0. 1. 0. 0. 0. 0. 0. 0. 0.]\n",
            " [0. 0. 0. 0. 0. 0. 1. 0. 0. 0.]\n",
            " [0. 0. 0. 0. 0. 0. 0. 1. 0. 0.]\n",
            " [0. 0. 0. 0. 1. 0. 0. 0. 0. 0.]\n",
            " [0. 0. 0. 0. 1. 0. 0. 0. 0. 0.]]\n"
          ]
        }
      ],
      "source": [
        "# One-hot encode the labels\n",
        "y_train_encoded = to_categorical(y_train)\n",
        "y_test_encoded = to_categorical(y_test)\n",
        "\n",
        "# Check the first few encoded labels\n",
        "print(\"First 5 training labels, one-hot encoded:\\n\", y_train_encoded[:5])"
      ]
    },
    {
      "cell_type": "markdown",
      "metadata": {
        "id": "H-8jYVQTAjQH"
      },
      "source": [
        "**Observation:**\n",
        "The data is ready for input into a CNN. Datapreprocessing steps have been carried out completely."
      ]
    },
    {
      "cell_type": "markdown",
      "metadata": {
        "id": "Vjx_LI4_AjQH"
      },
      "source": [
        "## **Model Building**\n",
        "\n",
        "Now that we have done data preprocessing, let's build a CNN model.\n",
        "Fix the seed for random number generators"
      ]
    },
    {
      "cell_type": "code",
      "execution_count": null,
      "metadata": {
        "id": "ZY5pyF4-KDNt"
      },
      "outputs": [],
      "source": [
        "# Fixing the seed for random number generators\n",
        "seed_value = 42\n",
        "\n",
        "os.environ['PYTHONHASHSEED'] = str(seed_value)\n",
        "random.seed(seed_value)\n",
        "np.random.seed(seed_value)\n",
        "tf.random.set_seed(seed_value)\n"
      ]
    },
    {
      "cell_type": "markdown",
      "metadata": {
        "id": "1JUAczhzAjQH"
      },
      "source": [
        "### **Model Architecture**\n",
        "- **Write a function** that returns a sequential model with the following architecture:\n",
        " - First Convolutional layer with **16 filters and the kernel size of 3x3**. Use the **'same' padding** and provide the **input shape = (32, 32, 1)**\n",
        " - Add a **LeakyRelu layer** with the **slope equal to 0.1**\n",
        " - Second Convolutional layer with **32 filters and the kernel size of 3x3 with 'same' padding**\n",
        " - Another **LeakyRelu** with the **slope equal to 0.1**\n",
        " - A **max-pooling layer** with a **pool size of 2x2**\n",
        " - **Flatten** the output from the previous layer\n",
        " - Add a **dense layer with 32 nodes**\n",
        " - Add a **LeakyRelu layer with the slope equal to 0.1**\n",
        " - Add the final **output layer with nodes equal to the number of classes, i.e., 10** and **'softmax' as the activation function**\n",
        " - Compile the model with the **loss equal to categorical_crossentropy, optimizer equal to Adam(learning_rate = 0.001), and metric equal to 'accuracy'**. Do not fit the model here, just return the compiled model.\n",
        "- Call the function cnn_model_1 and store the output in a new variable.\n",
        "- Print the summary of the model.\n",
        "- Fit the model on the training data with a **validation split of 0.2, batch size = 32, verbose = 1, and epochs = 20**. Store the model building history to use later for visualization."
      ]
    },
    {
      "cell_type": "markdown",
      "metadata": {
        "id": "JWsAd45JKDNu"
      },
      "source": [
        "### **Build and train a CNN model as per the above mentioned architecture.**"
      ]
    },
    {
      "cell_type": "code",
      "execution_count": null,
      "metadata": {
        "id": "L1jOYANWAjQH",
        "colab": {
          "base_uri": "https://localhost:8080/"
        },
        "outputId": "59deffd7-4c59-4455-e110-9c373f911f99"
      },
      "outputs": [
        {
          "output_type": "stream",
          "name": "stdout",
          "text": [
            "Model: \"sequential_1\"\n",
            "_________________________________________________________________\n",
            " Layer (type)                Output Shape              Param #   \n",
            "=================================================================\n",
            " conv2d (Conv2D)             (None, 32, 32, 16)        160       \n",
            "                                                                 \n",
            " leaky_re_lu (LeakyReLU)     (None, 32, 32, 16)        0         \n",
            "                                                                 \n",
            " conv2d_1 (Conv2D)           (None, 32, 32, 32)        4640      \n",
            "                                                                 \n",
            " leaky_re_lu_1 (LeakyReLU)   (None, 32, 32, 32)        0         \n",
            "                                                                 \n",
            " max_pooling2d (MaxPooling2D  (None, 16, 16, 32)       0         \n",
            " )                                                               \n",
            "                                                                 \n",
            " flatten (Flatten)           (None, 8192)              0         \n",
            "                                                                 \n",
            " dense_6 (Dense)             (None, 32)                262176    \n",
            "                                                                 \n",
            " leaky_re_lu_2 (LeakyReLU)   (None, 32)                0         \n",
            "                                                                 \n",
            " dense_7 (Dense)             (None, 10)                330       \n",
            "                                                                 \n",
            "=================================================================\n",
            "Total params: 267,306\n",
            "Trainable params: 267,306\n",
            "Non-trainable params: 0\n",
            "_________________________________________________________________\n",
            "Epoch 1/20\n",
            "1050/1050 [==============================] - 97s 91ms/step - loss: 1.1274 - accuracy: 0.6303 - val_loss: 0.6497 - val_accuracy: 0.8087\n",
            "Epoch 2/20\n",
            "1050/1050 [==============================] - 88s 84ms/step - loss: 0.5352 - accuracy: 0.8475 - val_loss: 0.5254 - val_accuracy: 0.8448\n",
            "Epoch 3/20\n",
            "1050/1050 [==============================] - 90s 86ms/step - loss: 0.4416 - accuracy: 0.8700 - val_loss: 0.5049 - val_accuracy: 0.8532\n",
            "Epoch 4/20\n",
            "1050/1050 [==============================] - 95s 90ms/step - loss: 0.3781 - accuracy: 0.8888 - val_loss: 0.4486 - val_accuracy: 0.8739\n",
            "Epoch 5/20\n",
            "1050/1050 [==============================] - 89s 85ms/step - loss: 0.3330 - accuracy: 0.9004 - val_loss: 0.4592 - val_accuracy: 0.8717\n",
            "Epoch 6/20\n",
            "1050/1050 [==============================] - 89s 85ms/step - loss: 0.2944 - accuracy: 0.9115 - val_loss: 0.4640 - val_accuracy: 0.8735\n",
            "Epoch 7/20\n",
            "1050/1050 [==============================] - 90s 86ms/step - loss: 0.2622 - accuracy: 0.9216 - val_loss: 0.4506 - val_accuracy: 0.8807\n",
            "Epoch 8/20\n",
            "1050/1050 [==============================] - 93s 89ms/step - loss: 0.2332 - accuracy: 0.9279 - val_loss: 0.4920 - val_accuracy: 0.8681\n",
            "Epoch 9/20\n",
            "1050/1050 [==============================] - 91s 87ms/step - loss: 0.2094 - accuracy: 0.9365 - val_loss: 0.4703 - val_accuracy: 0.8782\n",
            "Epoch 10/20\n",
            "1050/1050 [==============================] - 93s 88ms/step - loss: 0.1873 - accuracy: 0.9424 - val_loss: 0.4922 - val_accuracy: 0.8782\n",
            "Epoch 11/20\n",
            "1050/1050 [==============================] - 91s 86ms/step - loss: 0.1663 - accuracy: 0.9471 - val_loss: 0.5408 - val_accuracy: 0.8752\n",
            "Epoch 12/20\n",
            "1050/1050 [==============================] - 90s 85ms/step - loss: 0.1521 - accuracy: 0.9519 - val_loss: 0.5748 - val_accuracy: 0.8701\n",
            "Epoch 13/20\n",
            "1050/1050 [==============================] - 95s 90ms/step - loss: 0.1331 - accuracy: 0.9571 - val_loss: 0.6197 - val_accuracy: 0.8671\n",
            "Epoch 14/20\n",
            "1050/1050 [==============================] - 89s 85ms/step - loss: 0.1233 - accuracy: 0.9601 - val_loss: 0.6305 - val_accuracy: 0.8640\n",
            "Epoch 15/20\n",
            "1050/1050 [==============================] - 89s 85ms/step - loss: 0.1132 - accuracy: 0.9633 - val_loss: 0.6549 - val_accuracy: 0.8707\n",
            "Epoch 16/20\n",
            "1050/1050 [==============================] - 89s 85ms/step - loss: 0.1008 - accuracy: 0.9669 - val_loss: 0.7015 - val_accuracy: 0.8658\n",
            "Epoch 17/20\n",
            "1050/1050 [==============================] - 90s 85ms/step - loss: 0.0929 - accuracy: 0.9704 - val_loss: 0.6903 - val_accuracy: 0.8750\n",
            "Epoch 18/20\n",
            "1050/1050 [==============================] - 88s 84ms/step - loss: 0.0798 - accuracy: 0.9749 - val_loss: 0.7664 - val_accuracy: 0.8681\n",
            "Epoch 19/20\n",
            "1050/1050 [==============================] - 89s 84ms/step - loss: 0.0778 - accuracy: 0.9744 - val_loss: 0.7585 - val_accuracy: 0.8714\n",
            "Epoch 20/20\n",
            "1050/1050 [==============================] - 89s 85ms/step - loss: 0.0742 - accuracy: 0.9756 - val_loss: 0.8155 - val_accuracy: 0.8701\n"
          ]
        }
      ],
      "source": [
        "from tensorflow.keras.models import Sequential\n",
        "from tensorflow.keras.layers import Conv2D, LeakyReLU, MaxPooling2D, Flatten, Dense\n",
        "from tensorflow.keras.optimizers import Adam\n",
        "\n",
        "def cnn_model_1(input_shape, num_classes):\n",
        "    model = Sequential()\n",
        "\n",
        "    # First Convolutional layer\n",
        "    model.add(Conv2D(16, (3, 3), padding='same', input_shape=input_shape))\n",
        "    model.add(LeakyReLU(alpha=0.1))\n",
        "\n",
        "    # Second Convolutional layer\n",
        "    model.add(Conv2D(32, (3, 3), padding='same'))\n",
        "    model.add(LeakyReLU(alpha=0.1))\n",
        "\n",
        "    # Max pooling layer\n",
        "    model.add(MaxPooling2D(pool_size=(2, 2)))\n",
        "\n",
        "    # Flatten the output\n",
        "    model.add(Flatten())\n",
        "\n",
        "    # Dense layer\n",
        "    model.add(Dense(32))\n",
        "    model.add(LeakyReLU(alpha=0.1))\n",
        "\n",
        "    # Output layer\n",
        "    model.add(Dense(num_classes, activation='softmax'))\n",
        "\n",
        "    # Compile the model\n",
        "    model.compile(optimizer=Adam(learning_rate=0.001), loss='categorical_crossentropy', metrics=['accuracy'])\n",
        "\n",
        "    return model\n",
        "\n",
        "\n",
        "input_shape = (32, 32, 1)\n",
        "num_classes = 10\n",
        "\n",
        "# Create the model\n",
        "model = cnn_model_1(input_shape, num_classes)\n",
        "\n",
        "# Print the model summary\n",
        "model.summary()\n",
        "\n",
        "# Fit the model on the training data\n",
        "history = model.fit(\n",
        "    X_train_normalized, y_train_encoded,\n",
        "    validation_split=0.2,\n",
        "    batch_size=32,\n",
        "    verbose=1,\n",
        "    epochs=20\n",
        ")\n"
      ]
    },
    {
      "cell_type": "markdown",
      "metadata": {
        "id": "JPzfIf9kKDNw"
      },
      "source": [
        "### **Plot the Training and Validation Accuracies and Write your observations.**"
      ]
    },
    {
      "cell_type": "code",
      "execution_count": null,
      "metadata": {
        "id": "07oUCr1kAjQH",
        "colab": {
          "base_uri": "https://localhost:8080/",
          "height": 564
        },
        "outputId": "3cc73903-d702-4950-d010-df0252e72a8a"
      },
      "outputs": [
        {
          "output_type": "display_data",
          "data": {
            "text/plain": [
              "<Figure size 1000x600 with 1 Axes>"
            ],
            "image/png": "[encoded data removed]"
          },
          "metadata": {}
        }
      ],
      "source": [
        "import matplotlib.pyplot as plt\n",
        "\n",
        "# Extracting accuracy and validation accuracy from the history object\n",
        "training_accuracy = history.history['accuracy']\n",
        "validation_accuracy = history.history['val_accuracy']\n",
        "\n",
        "# Creating a count of the number of epochs\n",
        "epochs = range(1, len(training_accuracy) + 1)\n",
        "\n",
        "# Plotting the training and validation accuracy\n",
        "plt.figure(figsize=(10, 6))\n",
        "plt.plot(epochs, training_accuracy, 'bo-', label='Training Accuracy')\n",
        "plt.plot(epochs, validation_accuracy, 'ro-', label='Validation Accuracy')\n",
        "plt.title('Training and Validation Accuracy')\n",
        "plt.xlabel('Epochs')\n",
        "plt.ylabel('Accuracy')\n",
        "plt.legend()\n",
        "plt.show()\n"
      ]
    },
    {
      "cell_type": "markdown",
      "metadata": {
        "id": "P6zTLyp9AjQH"
      },
      "source": [
        "**Observations:__________**\n",
        "* Both the training and validation accuracies increase sharply in the first few epochs; the model is quickly learning from the training data.\n",
        "*  From around epoch 5 onwards, there's a noticeable gap between the training and validation accuracy, which may be indicative of overfitting. The model is performing better on the training data compared to the validation data."
      ]
    },
    {
      "cell_type": "markdown",
      "metadata": {
        "id": "Ukvtg2eMAjQH"
      },
      "source": [
        "Let's build another model and see if we can get a better model with generalized performance.\n",
        "\n",
        "First, we need to clear the previous model's history from the Keras backend. Also, let's fix the seed again after clearing the backend."
      ]
    },
    {
      "cell_type": "code",
      "execution_count": null,
      "metadata": {
        "id": "HbKi93HTolGW"
      },
      "outputs": [],
      "source": [
        "import random\n",
        "import os\n",
        "\n",
        "# Import Keras backend to manage things like the session state\n",
        "from tensorflow.keras import backend as K\n",
        "\n",
        "# Clearing the current TensorFlow graph and starting a new one; helpful to avoid clutter from old models and layers\n",
        "K.clear_session()\n",
        "\n",
        "# Set a specific number to make the random processes repeatable\n",
        "seed_value = 42\n",
        "\n",
        "# Ensure that Python’s hash-based operations are consistent and repeatable\n",
        "os.environ['PYTHONHASHSEED'] = str(seed_value)\n",
        "\n",
        "# Make Python's random number generation repeatable by setting a seed\n",
        "random.seed(seed_value)\n",
        "\n",
        "# Ensure NumPy's random numbers are predictable by setting a seed\n",
        "np.random.seed(seed_value)\n",
        "\n",
        "# Make TensorFlow's random number generation consistent by setting a seed\n",
        "tf.random.set_seed(seed_value)"
      ]
    },
    {
      "cell_type": "markdown",
      "metadata": {
        "id": "Ep19Jd8HAjQH"
      },
      "source": [
        "### **Second Model Architecture**\n",
        "\n",
        "- Write a function that returns a sequential model with the following architecture:\n",
        " - First Convolutional layer with **16 filters and the kernel size of 3x3**. Use the **'same' padding** and provide the **input shape = (32, 32, 1)**\n",
        " - Add a **LeakyRelu layer** with the **slope equal to 0.1**\n",
        " - Second Convolutional layer with **32 filters and the kernel size of 3x3 with 'same' padding**\n",
        " - Add **LeakyRelu** with the **slope equal to 0.1**\n",
        " - Add a **max-pooling layer** with a **pool size of 2x2**\n",
        " - Add a **BatchNormalization layer**\n",
        " - Third Convolutional layer with **32 filters and the kernel size of 3x3 with 'same' padding**\n",
        " - Add a **LeakyRelu layer with the slope equal to 0.1**\n",
        " - Fourth Convolutional layer **64 filters and the kernel size of 3x3 with 'same' padding**\n",
        " - Add a **LeakyRelu layer with the slope equal to 0.1**\n",
        " - Add a **max-pooling layer** with a **pool size of 2x2**\n",
        " - Add a **BatchNormalization layer**\n",
        " - **Flatten** the output from the previous layer\n",
        " - Add a **dense layer with 32 nodes**\n",
        " - Add a **LeakyRelu layer with the slope equal to 0.1**\n",
        " - Add a **dropout layer with the rate equal to 0.5**\n",
        " - Add the final **output layer with nodes equal to the number of classes, i.e., 10** and **'softmax' as the activation function**\n",
        " - Compile the model with the **categorical_crossentropy loss, adam optimizers (learning_rate = 0.001), and metric equal to 'accuracy'**. Do not fit the model here, just return the compiled model.\n",
        "- Call the function cnn_model_2 and store the model in a new variable.\n",
        "- Print the summary of the model.\n",
        "- Fit the model on the train data with a **validation split of 0.2, batch size = 128, verbose = 1, and epochs = 30**. Store the model building history to use later for visualization."
      ]
    },
    {
      "cell_type": "markdown",
      "metadata": {
        "id": "y5IBLS1eKDNy"
      },
      "source": [
        "### **Build and train the second CNN model as per the above mentioned architecture.**"
      ]
    },
    {
      "cell_type": "code",
      "execution_count": null,
      "metadata": {
        "id": "wk9sl2UEAjQH",
        "colab": {
          "base_uri": "https://localhost:8080/"
        },
        "outputId": "f1113280-97a0-42df-f61b-0471ebf2d110"
      },
      "outputs": [
        {
          "output_type": "stream",
          "name": "stdout",
          "text": [
            "Model: \"sequential\"\n",
            "_________________________________________________________________\n",
            " Layer (type)                Output Shape              Param #   \n",
            "=================================================================\n",
            " conv2d (Conv2D)             (None, 32, 32, 16)        160       \n",
            "                                                                 \n",
            " leaky_re_lu (LeakyReLU)     (None, 32, 32, 16)        0         \n",
            "                                                                 \n",
            " conv2d_1 (Conv2D)           (None, 32, 32, 32)        4640      \n",
            "                                                                 \n",
            " leaky_re_lu_1 (LeakyReLU)   (None, 32, 32, 32)        0         \n",
            "                                                                 \n",
            " max_pooling2d (MaxPooling2D  (None, 16, 16, 32)       0         \n",
            " )                                                               \n",
            "                                                                 \n",
            " batch_normalization (BatchN  (None, 16, 16, 32)       128       \n",
            " ormalization)                                                   \n",
            "                                                                 \n",
            " conv2d_2 (Conv2D)           (None, 16, 16, 32)        9248      \n",
            "                                                                 \n",
            " leaky_re_lu_2 (LeakyReLU)   (None, 16, 16, 32)        0         \n",
            "                                                                 \n",
            " conv2d_3 (Conv2D)           (None, 16, 16, 64)        18496     \n",
            "                                                                 \n",
            " leaky_re_lu_3 (LeakyReLU)   (None, 16, 16, 64)        0         \n",
            "                                                                 \n",
            " max_pooling2d_1 (MaxPooling  (None, 8, 8, 64)         0         \n",
            " 2D)                                                             \n",
            "                                                                 \n",
            " batch_normalization_1 (Batc  (None, 8, 8, 64)         256       \n",
            " hNormalization)                                                 \n",
            "                                                                 \n",
            " flatten (Flatten)           (None, 4096)              0         \n",
            "                                                                 \n",
            " dense (Dense)               (None, 32)                131104    \n",
            "                                                                 \n",
            " leaky_re_lu_4 (LeakyReLU)   (None, 32)                0         \n",
            "                                                                 \n",
            " dropout (Dropout)           (None, 32)                0         \n",
            "                                                                 \n",
            " dense_1 (Dense)             (None, 10)                330       \n",
            "                                                                 \n",
            "=================================================================\n",
            "Total params: 164,362\n",
            "Trainable params: 164,170\n",
            "Non-trainable params: 192\n",
            "_________________________________________________________________\n",
            "Epoch 1/30\n",
            "263/263 [==============================] - 162s 592ms/step - loss: 1.3271 - accuracy: 0.5491 - val_loss: 1.8763 - val_accuracy: 0.3475\n",
            "Epoch 2/30\n",
            "263/263 [==============================] - 151s 574ms/step - loss: 0.6722 - accuracy: 0.7940 - val_loss: 0.5646 - val_accuracy: 0.8446\n",
            "Epoch 3/30\n",
            "263/263 [==============================] - 155s 590ms/step - loss: 0.5530 - accuracy: 0.8310 - val_loss: 0.4333 - val_accuracy: 0.8739\n",
            "Epoch 4/30\n",
            "263/263 [==============================] - 153s 583ms/step - loss: 0.4921 - accuracy: 0.8483 - val_loss: 0.4754 - val_accuracy: 0.8651\n",
            "Epoch 5/30\n",
            "263/263 [==============================] - 154s 586ms/step - loss: 0.4399 - accuracy: 0.8624 - val_loss: 0.3768 - val_accuracy: 0.8963\n",
            "Epoch 6/30\n",
            "263/263 [==============================] - 155s 588ms/step - loss: 0.4033 - accuracy: 0.8764 - val_loss: 0.3743 - val_accuracy: 0.8935\n",
            "Epoch 7/30\n",
            "263/263 [==============================] - 151s 575ms/step - loss: 0.3876 - accuracy: 0.8813 - val_loss: 0.3795 - val_accuracy: 0.8935\n",
            "Epoch 8/30\n",
            "263/263 [==============================] - 153s 584ms/step - loss: 0.3505 - accuracy: 0.8890 - val_loss: 0.3397 - val_accuracy: 0.9100\n",
            "Epoch 9/30\n",
            "263/263 [==============================] - 152s 579ms/step - loss: 0.3317 - accuracy: 0.8968 - val_loss: 0.3540 - val_accuracy: 0.9048\n",
            "Epoch 10/30\n",
            "263/263 [==============================] - 154s 586ms/step - loss: 0.3098 - accuracy: 0.9045 - val_loss: 0.3534 - val_accuracy: 0.8985\n",
            "Epoch 11/30\n",
            "263/263 [==============================] - 155s 588ms/step - loss: 0.2903 - accuracy: 0.9082 - val_loss: 0.3629 - val_accuracy: 0.9055\n",
            "Epoch 12/30\n",
            "263/263 [==============================] - 153s 581ms/step - loss: 0.2815 - accuracy: 0.9110 - val_loss: 0.3954 - val_accuracy: 0.9079\n",
            "Epoch 13/30\n",
            "263/263 [==============================] - 153s 582ms/step - loss: 0.2723 - accuracy: 0.9128 - val_loss: 0.3541 - val_accuracy: 0.9004\n",
            "Epoch 14/30\n",
            "263/263 [==============================] - 153s 582ms/step - loss: 0.2562 - accuracy: 0.9181 - val_loss: 0.3613 - val_accuracy: 0.9124\n",
            "Epoch 15/30\n",
            "263/263 [==============================] - 156s 591ms/step - loss: 0.2440 - accuracy: 0.9210 - val_loss: 0.3461 - val_accuracy: 0.9158\n",
            "Epoch 16/30\n",
            "263/263 [==============================] - 156s 593ms/step - loss: 0.2309 - accuracy: 0.9252 - val_loss: 0.3642 - val_accuracy: 0.9102\n",
            "Epoch 17/30\n",
            "263/263 [==============================] - 155s 589ms/step - loss: 0.2201 - accuracy: 0.9299 - val_loss: 0.3719 - val_accuracy: 0.9136\n",
            "Epoch 18/30\n",
            "263/263 [==============================] - 154s 585ms/step - loss: 0.2141 - accuracy: 0.9314 - val_loss: 0.3829 - val_accuracy: 0.9092\n",
            "Epoch 19/30\n",
            "263/263 [==============================] - 154s 587ms/step - loss: 0.2078 - accuracy: 0.9327 - val_loss: 0.4008 - val_accuracy: 0.9093\n",
            "Epoch 20/30\n",
            "263/263 [==============================] - 152s 577ms/step - loss: 0.2058 - accuracy: 0.9315 - val_loss: 0.3663 - val_accuracy: 0.9142\n",
            "Epoch 21/30\n",
            "263/263 [==============================] - 155s 589ms/step - loss: 0.1957 - accuracy: 0.9361 - val_loss: 0.3827 - val_accuracy: 0.9085\n",
            "Epoch 22/30\n",
            "263/263 [==============================] - 153s 581ms/step - loss: 0.1852 - accuracy: 0.9382 - val_loss: 0.3940 - val_accuracy: 0.9151\n",
            "Epoch 23/30\n",
            "263/263 [==============================] - 154s 587ms/step - loss: 0.1844 - accuracy: 0.9404 - val_loss: 0.4162 - val_accuracy: 0.9070\n",
            "Epoch 24/30\n",
            "263/263 [==============================] - 154s 585ms/step - loss: 0.1797 - accuracy: 0.9412 - val_loss: 0.4715 - val_accuracy: 0.8896\n",
            "Epoch 25/30\n",
            "263/263 [==============================] - 154s 586ms/step - loss: 0.1721 - accuracy: 0.9431 - val_loss: 0.4154 - val_accuracy: 0.9127\n",
            "Epoch 26/30\n",
            "263/263 [==============================] - 153s 581ms/step - loss: 0.1649 - accuracy: 0.9454 - val_loss: 0.3934 - val_accuracy: 0.9150\n",
            "Epoch 27/30\n",
            "263/263 [==============================] - 154s 584ms/step - loss: 0.1690 - accuracy: 0.9436 - val_loss: 0.3883 - val_accuracy: 0.9069\n",
            "Epoch 28/30\n",
            "263/263 [==============================] - 151s 576ms/step - loss: 0.1546 - accuracy: 0.9483 - val_loss: 0.5374 - val_accuracy: 0.8960\n",
            "Epoch 29/30\n",
            "263/263 [==============================] - 152s 577ms/step - loss: 0.1545 - accuracy: 0.9486 - val_loss: 0.4768 - val_accuracy: 0.9125\n",
            "Epoch 30/30\n",
            "263/263 [==============================] - 153s 580ms/step - loss: 0.1468 - accuracy: 0.9504 - val_loss: 0.4434 - val_accuracy: 0.9154\n"
          ]
        }
      ],
      "source": [
        "from tensorflow.keras.models import Sequential\n",
        "from tensorflow.keras.layers import Conv2D, LeakyReLU, MaxPooling2D, BatchNormalization\n",
        "from tensorflow.keras.layers import Flatten, Dense, Dropout\n",
        "from tensorflow.keras.optimizers import Adam\n",
        "\n",
        "def cnn_model_2(input_shape, num_classes):\n",
        "    model = Sequential()\n",
        "\n",
        "    # First Convolutional layer\n",
        "    model.add(Conv2D(16, (3, 3), padding='same', input_shape=input_shape))\n",
        "    model.add(LeakyReLU(alpha=0.1))\n",
        "\n",
        "    # Second Convolutional layer\n",
        "    model.add(Conv2D(32, (3, 3), padding='same'))\n",
        "    model.add(LeakyReLU(alpha=0.1))\n",
        "\n",
        "    # Max-pooling layer\n",
        "    model.add(MaxPooling2D(pool_size=(2, 2)))\n",
        "\n",
        "    # Batch Normalization layer\n",
        "    model.add(BatchNormalization())\n",
        "\n",
        "    # Third Convolutional layer\n",
        "    model.add(Conv2D(32, (3, 3), padding='same'))\n",
        "    model.add(LeakyReLU(alpha=0.1))\n",
        "\n",
        "    # Fourth Convolutional layer\n",
        "    model.add(Conv2D(64, (3, 3), padding='same'))\n",
        "    model.add(LeakyReLU(alpha=0.1))\n",
        "\n",
        "    # Max-pooling layer\n",
        "    model.add(MaxPooling2D(pool_size=(2, 2)))\n",
        "\n",
        "    # Batch Normalization layer\n",
        "    model.add(BatchNormalization())\n",
        "\n",
        "    # Flatten the output\n",
        "    model.add(Flatten())\n",
        "\n",
        "    # Dense layer\n",
        "    model.add(Dense(32))\n",
        "    model.add(LeakyReLU(alpha=0.1))\n",
        "\n",
        "    # Dropout layer\n",
        "    model.add(Dropout(0.5))\n",
        "\n",
        "    # Output layer\n",
        "    model.add(Dense(num_classes, activation='softmax'))\n",
        "\n",
        "    # Compile the model\n",
        "    model.compile(optimizer=Adam(learning_rate=0.001), loss='categorical_crossentropy', metrics=['accuracy'])\n",
        "\n",
        "    return model\n",
        "\n",
        "# Assuming your preprocessed data is loaded into X_train_normalized, y_train_encoded, etc.\n",
        "input_shape = (32, 32, 1)\n",
        "num_classes = 10\n",
        "\n",
        "# Create the model\n",
        "model_2 = cnn_model_2(input_shape, num_classes)\n",
        "\n",
        "# Print the model summary\n",
        "model_2.summary()\n",
        "\n",
        "# Fit the model on the training data\n",
        "history_2 = model_2.fit(\n",
        "    X_train_normalized, y_train_encoded,\n",
        "    validation_split=0.2,\n",
        "    batch_size=128,\n",
        "    verbose=1,\n",
        "    epochs=30\n",
        ")\n"
      ]
    },
    {
      "cell_type": "markdown",
      "metadata": {
        "id": "PyhUtMy3KDN1"
      },
      "source": [
        "### **Plot the Training and Validation accuracies and write your observations.**"
      ]
    },
    {
      "cell_type": "code",
      "execution_count": null,
      "metadata": {
        "id": "YVQu7uWiAjQH",
        "colab": {
          "base_uri": "https://localhost:8080/",
          "height": 487
        },
        "outputId": "b88f663e-4758-49db-bbd5-25dd3e439853"
      },
      "outputs": [
        {
          "output_type": "display_data",
          "data": {
            "text/plain": [
              "<Figure size 1000x500 with 1 Axes>"
            ],
            "image/png": "[encoded data removed]"
          },
          "metadata": {}
        }
      ],
      "source": [
        "import matplotlib.pyplot as plt\n",
        "\n",
        "# Assuming 'history_2' is the history object returned from the 'fit' function\n",
        "# Extract the accuracy and validation accuracy\n",
        "acc = history_2.history['accuracy']\n",
        "val_acc = history_2.history['val_accuracy']\n",
        "epochs = range(1, len(acc) + 1)\n",
        "\n",
        "# Plot the accuracies\n",
        "plt.figure(figsize=(10, 5))\n",
        "plt.plot(epochs, acc, 'bo-', label='Training Accuracy')\n",
        "plt.plot(epochs, val_acc, 'ro-', label='Validation Accuracy')\n",
        "plt.title('Training and Validation Accuracy')\n",
        "plt.xlabel('Epochs')\n",
        "plt.ylabel('Accuracy')\n",
        "plt.legend()\n",
        "plt.show()\n"
      ]
    },
    {
      "cell_type": "markdown",
      "metadata": {
        "id": "Qrrt0Ac3AjQH"
      },
      "source": [
        "**Observations:________**\n",
        "\n",
        "* Both the training and validation accuracies increase sharply in the first few epochs; the model is quickly learning from the training data.\n",
        "* The training accuracy (in blue) consistently remains higher than the validation accuracy (in red)\n",
        "* There is a small gap between the training and validation accuracies, suggesting that the model is generalizing reasonably well, and overfitting is likely not severe.\n",
        "* The stabilization of accuracy indicates that running the training for more epochs is unlikely to result in significant improvements without changes to the model or training process.\n"
      ]
    },
    {
      "cell_type": "markdown",
      "metadata": {
        "id": "kja4SnOdAjQI"
      },
      "source": [
        "## **Predictions on the test data**\n",
        "\n",
        "- Make predictions on the test set using the second model.\n",
        "- Print the obtained results using the classification report and the confusion matrix.\n",
        "- Final observations on the obtained results."
      ]
    },
    {
      "cell_type": "markdown",
      "metadata": {
        "id": "eHCRwRbgKDN2"
      },
      "source": [
        "### **Make predictions on the test data using the second model.**"
      ]
    },
    {
      "cell_type": "code",
      "execution_count": null,
      "metadata": {
        "id": "f1d-VvaLAjQI",
        "colab": {
          "base_uri": "https://localhost:8080/",
          "height": 1000
        },
        "outputId": "51c098a5-fdec-475f-e17e-1c23032b5e4d"
      },
      "outputs": [
        {
          "output_type": "stream",
          "name": "stdout",
          "text": [
            "563/563 [==============================] - 27s 48ms/step\n",
            "Classification report:\n",
            "              precision    recall  f1-score   support\n",
            "\n",
            "           0       0.90      0.95      0.93      1814\n",
            "           1       0.89      0.93      0.91      1828\n",
            "           2       0.94      0.90      0.92      1803\n",
            "           3       0.90      0.89      0.89      1719\n",
            "           4       0.94      0.92      0.93      1812\n",
            "           5       0.90      0.92      0.91      1768\n",
            "           6       0.92      0.88      0.90      1832\n",
            "           7       0.92      0.94      0.93      1808\n",
            "           8       0.93      0.88      0.90      1812\n",
            "           9       0.90      0.92      0.91      1804\n",
            "\n",
            "    accuracy                           0.91     18000\n",
            "   macro avg       0.91      0.91      0.91     18000\n",
            "weighted avg       0.91      0.91      0.91     18000\n",
            "\n",
            "Confusion matrix:\n",
            "[[1726   21    5    4    7    1    9    7    6   28]\n",
            " [  26 1700    6   15   25    6    4   29    6   11]\n",
            " [  15   18 1620   30   19    3    2   49   12   35]\n",
            " [   2   27   19 1536    8   58   19   16   18   16]\n",
            " [  13   53   21   10 1672    6    9    5    5   18]\n",
            " [   2    7    4   57    9 1618   38    5    7   21]\n",
            " [  48   13    8    8   14   61 1618    3   47   12]\n",
            " [  12   39   18   10   10    2    9 1697    4    7]\n",
            " [  29   18    8   34   14   15   49    8 1597   40]\n",
            " [  40   18   10   11    8   23    7   17   18 1652]]\n"
          ]
        },
        {
          "output_type": "display_data",
          "data": {
            "text/plain": [
              "<Figure size 1000x1000 with 2 Axes>"
            ],
            "image/png": "[encoded data removed]"
          },
          "metadata": {}
        }
      ],
      "source": [
        "from sklearn.metrics import classification_report, confusion_matrix\n",
        "import numpy as np\n",
        "\n",
        "# Make predictions with the model\n",
        "predictions = model_2.predict(X_test_normalized)\n",
        "\n",
        "# The predictions are in one-hot encoded format, convert them to labels\n",
        "predicted_classes = np.argmax(predictions, axis=1)\n",
        "\n",
        "# Convert the one-hot encoded test labels back to class labels if they are in one-hot encoded format\n",
        "true_classes = np.argmax(y_test_encoded, axis=1)\n",
        "\n",
        "# Print the classification report\n",
        "print(\"Classification report:\")\n",
        "print(classification_report(true_classes, predicted_classes))\n",
        "\n",
        "# Compute the confusion matrix\n",
        "conf_matrix = confusion_matrix(true_classes, predicted_classes)\n",
        "print(\"Confusion matrix:\")\n",
        "print(conf_matrix)\n",
        "\n",
        "# Plotting the confusion matrix\n",
        "import seaborn as sns\n",
        "plt.figure(figsize=(10, 10))\n",
        "sns.heatmap(conf_matrix, annot=True, fmt='d', cmap=plt.cm.Blues)\n",
        "plt.xlabel('Predicted Label')\n",
        "plt.ylabel('True Label')\n",
        "plt.title('Confusion Matrix')\n",
        "plt.show()\n"
      ]
    },
    {
      "cell_type": "markdown",
      "metadata": {
        "id": "DrV1tOG0AjQI"
      },
      "source": [
        "**Note:** Earlier, we noticed that each entry of the target variable is a one-hot encoded vector, but to print the classification report and confusion matrix, we must convert each entry of y_test to a single label."
      ]
    },
    {
      "cell_type": "markdown",
      "metadata": {
        "id": "aVCa-ysWKDN3"
      },
      "source": [
        "### **Write your final observations on the performance of the model on the test data.**"
      ]
    },
    {
      "cell_type": "markdown",
      "metadata": {
        "id": "TNN9v713AjQJ"
      },
      "source": [
        "**Final Observations:_________**\n",
        "\n",
        "Classification Report:\n",
        "\n",
        "* The precision, recall, and F1-scores for each class (0 through 9) are all above 0.88, which indicates a high level of accuracy in predictions across all classes.\n",
        "The class with the highest precision (0.94) is class 2 and class 4, which means these classes have the lowest number of false positives.\n",
        "* The class with the highest recall (0.95) is class 0, indicating that it has the lowest number of false negatives.\n",
        "* The F1-score is high for all classes, with class 0 and class 4 having the highest F1-score (0.93), reflecting a good balance between precision and recall for those classes.\n",
        "* Overall accuracy is 0.91, which is the proportion of total true predictions over all predictions made.\n",
        "The macro average and weighted average scores are also very high (0.91), suggesting that the model is performing well across all classes, without significant bias towards any particular class.\n",
        "\n",
        "Confusion Matrix:\n",
        "\n",
        "* The confusion matrix shows how predictions are distributed across true labels. Most values are on the diagonal, which indicates correct classifications.\n",
        "* Off-diagonal values represent misclassifications. For example, class 3 has been confused with class 5 and class 8 58 and 58 times, respectively, which might suggest some visual similarities causing confusion for the model.\n",
        "* Most misclassifications are low in number compared to the correct predictions, as seen by the larger numbers on the diagonal."
      ]
    },
    {
      "cell_type": "markdown",
      "source": [
        "**CONCLUSION**\n",
        "\n",
        "* The ANN has an overall accuracy of 0.76, which is lower than the CNN's accuracy of 0.91.\n",
        "* The precision, recall, and F1-scores for the ANN are generally lower across all classes compared to the CNN.\n",
        "* The highest F1-score for the ANN is for class 4 at 0.81, which is still lower than the lowest F1-score for the CNN (class 8 at 0.88).\n",
        "\n",
        "The CNN performed significantly better than the ANN based on the provided metrics. The CNN has higher accuracy, precision, recall, and F1-scores for each class and on average. This is consistent with expectations since CNNs are designed to capture spatial and temporal dependencies in image data, making them better suited for image classification tasks compared to ANNs. The ANN might require more sophisticated feature engineering or a different architecture to match the performance of the CNN on this particular task.\n"
      ],
      "metadata": {
        "id": "_JQTcqvX9qFN"
      }
    },
    {
      "cell_type": "code",
      "source": [
        "!jupyter nbconvert --to html '/content/drive/MyDrive/Colab Notebooks/Project/Project 2: High_Code_SVHN_Digit_Recognition.ipynb'"
      ],
      "metadata": {
        "colab": {
          "base_uri": "https://localhost:8080/"
        },
        "id": "TULAx30LAqVU",
        "outputId": "81a3f03c-e645-40c2-ff34-a59a65c05041"
      },
      "execution_count": 9,
      "outputs": [
        {
          "output_type": "stream",
          "name": "stdout",
          "text": [
            "[NbConvertApp] WARNING | pattern '/content/drive/MyDrive/Colab Notebooks/Project/Project 2: High_Code_SVHN_Digit_Recognition.ipynb' matched no files\n",
            "This application is used to convert notebook files (*.ipynb)\n",
            "        to various other formats.\n",
            "\n",
            "        WARNING: THE COMMANDLINE INTERFACE MAY CHANGE IN FUTURE RELEASES.\n",
            "\n",
            "Options\n",
            "=======\n",
            "The options below are convenience aliases to configurable class-options,\n",
            "as listed in the \"Equivalent to\" description-line of the aliases.\n",
            "To see all configurable class-options for some <cmd>, use:\n",
            "    <cmd> --help-all\n",
            "\n",
            "--debug\n",
            "    set log level to logging.DEBUG (maximize logging output)\n",
            "    Equivalent to: [--Application.log_level=10]\n",
            "--show-config\n",
            "    Show the application's configuration (human-readable format)\n",
            "    Equivalent to: [--Application.show_config=True]\n",
            "--show-config-json\n",
            "    Show the application's configuration (json format)\n",
            "    Equivalent to: [--Application.show_config_json=True]\n",
            "--generate-config\n",
            "    generate default config file\n",
            "    Equivalent to: [--JupyterApp.generate_config=True]\n",
            "-y\n",
            "    Answer yes to any questions instead of prompting.\n",
            "    Equivalent to: [--JupyterApp.answer_yes=True]\n",
            "--execute\n",
            "    Execute the notebook prior to export.\n",
            "    Equivalent to: [--ExecutePreprocessor.enabled=True]\n",
            "--allow-errors\n",
            "    Continue notebook execution even if one of the cells throws an error and include the error message in the cell output (the default behaviour is to abort conversion). This flag is only relevant if '--execute' was specified, too.\n",
            "    Equivalent to: [--ExecutePreprocessor.allow_errors=True]\n",
            "--stdin\n",
            "    read a single notebook file from stdin. Write the resulting notebook with default basename 'notebook.*'\n",
            "    Equivalent to: [--NbConvertApp.from_stdin=True]\n",
            "--stdout\n",
            "    Write notebook output to stdout instead of files.\n",
            "    Equivalent to: [--NbConvertApp.writer_class=StdoutWriter]\n",
            "--inplace\n",
            "    Run nbconvert in place, overwriting the existing notebook (only\n",
            "            relevant when converting to notebook format)\n",
            "    Equivalent to: [--NbConvertApp.use_output_suffix=False --NbConvertApp.export_format=notebook --FilesWriter.build_directory=]\n",
            "--clear-output\n",
            "    Clear output of current file and save in place,\n",
            "            overwriting the existing notebook.\n",
            "    Equivalent to: [--NbConvertApp.use_output_suffix=False --NbConvertApp.export_format=notebook --FilesWriter.build_directory= --ClearOutputPreprocessor.enabled=True]\n",
            "--no-prompt\n",
            "    Exclude input and output prompts from converted document.\n",
            "    Equivalent to: [--TemplateExporter.exclude_input_prompt=True --TemplateExporter.exclude_output_prompt=True]\n",
            "--no-input\n",
            "    Exclude input cells and output prompts from converted document.\n",
            "            This mode is ideal for generating code-free reports.\n",
            "    Equivalent to: [--TemplateExporter.exclude_output_prompt=True --TemplateExporter.exclude_input=True --TemplateExporter.exclude_input_prompt=True]\n",
            "--allow-chromium-download\n",
            "    Whether to allow downloading chromium if no suitable version is found on the system.\n",
            "    Equivalent to: [--WebPDFExporter.allow_chromium_download=True]\n",
            "--disable-chromium-sandbox\n",
            "    Disable chromium security sandbox when converting to PDF..\n",
            "    Equivalent to: [--WebPDFExporter.disable_sandbox=True]\n",
            "--show-input\n",
            "    Shows code input. This flag is only useful for dejavu users.\n",
            "    Equivalent to: [--TemplateExporter.exclude_input=False]\n",
            "--embed-images\n",
            "    Embed the images as base64 dataurls in the output. This flag is only useful for the HTML/WebPDF/Slides exports.\n",
            "    Equivalent to: [--HTMLExporter.embed_images=True]\n",
            "--sanitize-html\n",
            "    Whether the HTML in Markdown cells and cell outputs should be sanitized..\n",
            "    Equivalent to: [--HTMLExporter.sanitize_html=True]\n",
            "--log-level=<Enum>\n",
            "    Set the log level by value or name.\n",
            "    Choices: any of [0, 10, 20, 30, 40, 50, 'DEBUG', 'INFO', 'WARN', 'ERROR', 'CRITICAL']\n",
            "    Default: 30\n",
            "    Equivalent to: [--Application.log_level]\n",
            "--config=<Unicode>\n",
            "    Full path of a config file.\n",
            "    Default: ''\n",
            "    Equivalent to: [--JupyterApp.config_file]\n",
            "--to=<Unicode>\n",
            "    The export format to be used, either one of the built-in formats\n",
            "            ['asciidoc', 'custom', 'html', 'latex', 'markdown', 'notebook', 'pdf', 'python', 'rst', 'script', 'slides', 'webpdf']\n",
            "            or a dotted object name that represents the import path for an\n",
            "            ``Exporter`` class\n",
            "    Default: ''\n",
            "    Equivalent to: [--NbConvertApp.export_format]\n",
            "--template=<Unicode>\n",
            "    Name of the template to use\n",
            "    Default: ''\n",
            "    Equivalent to: [--TemplateExporter.template_name]\n",
            "--template-file=<Unicode>\n",
            "    Name of the template file to use\n",
            "    Default: None\n",
            "    Equivalent to: [--TemplateExporter.template_file]\n",
            "--theme=<Unicode>\n",
            "    Template specific theme(e.g. the name of a JupyterLab CSS theme distributed\n",
            "    as prebuilt extension for the lab template)\n",
            "    Default: 'light'\n",
            "    Equivalent to: [--HTMLExporter.theme]\n",
            "--sanitize_html=<Bool>\n",
            "    Whether the HTML in Markdown cells and cell outputs should be sanitized.This\n",
            "    should be set to True by nbviewer or similar tools.\n",
            "    Default: False\n",
            "    Equivalent to: [--HTMLExporter.sanitize_html]\n",
            "--writer=<DottedObjectName>\n",
            "    Writer class used to write the\n",
            "                                        results of the conversion\n",
            "    Default: 'FilesWriter'\n",
            "    Equivalent to: [--NbConvertApp.writer_class]\n",
            "--post=<DottedOrNone>\n",
            "    PostProcessor class used to write the\n",
            "                                        results of the conversion\n",
            "    Default: ''\n",
            "    Equivalent to: [--NbConvertApp.postprocessor_class]\n",
            "--output=<Unicode>\n",
            "    overwrite base name use for output files.\n",
            "                can only be used when converting one notebook at a time.\n",
            "    Default: ''\n",
            "    Equivalent to: [--NbConvertApp.output_base]\n",
            "--output-dir=<Unicode>\n",
            "    Directory to write output(s) to. Defaults\n",
            "                                  to output to the directory of each notebook. To recover\n",
            "                                  previous default behaviour (outputting to the current\n",
            "                                  working directory) use . as the flag value.\n",
            "    Default: ''\n",
            "    Equivalent to: [--FilesWriter.build_directory]\n",
            "--reveal-prefix=<Unicode>\n",
            "    The URL prefix for reveal.js (version 3.x).\n",
            "            This defaults to the reveal CDN, but can be any url pointing to a copy\n",
            "            of reveal.js.\n",
            "            For speaker notes to work, this must be a relative path to a local\n",
            "            copy of reveal.js: e.g., \"reveal.js\".\n",
            "            If a relative path is given, it must be a subdirectory of the\n",
            "            current directory (from which the server is run).\n",
            "            See the usage documentation\n",
            "            (https://nbconvert.readthedocs.io/en/latest/usage.html#reveal-js-html-slideshow)\n",
            "            for more details.\n",
            "    Default: ''\n",
            "    Equivalent to: [--SlidesExporter.reveal_url_prefix]\n",
            "--nbformat=<Enum>\n",
            "    The nbformat version to write.\n",
            "            Use this to downgrade notebooks.\n",
            "    Choices: any of [1, 2, 3, 4]\n",
            "    Default: 4\n",
            "    Equivalent to: [--NotebookExporter.nbformat_version]\n",
            "\n",
            "Examples\n",
            "--------\n",
            "\n",
            "    The simplest way to use nbconvert is\n",
            "\n",
            "            > jupyter nbconvert mynotebook.ipynb --to html\n",
            "\n",
            "            Options include ['asciidoc', 'custom', 'html', 'latex', 'markdown', 'notebook', 'pdf', 'python', 'rst', 'script', 'slides', 'webpdf'].\n",
            "\n",
            "            > jupyter nbconvert --to latex mynotebook.ipynb\n",
            "\n",
            "            Both HTML and LaTeX support multiple output templates. LaTeX includes\n",
            "            'base', 'article' and 'report'.  HTML includes 'basic', 'lab' and\n",
            "            'classic'. You can specify the flavor of the format used.\n",
            "\n",
            "            > jupyter nbconvert --to html --template lab mynotebook.ipynb\n",
            "\n",
            "            You can also pipe the output to stdout, rather than a file\n",
            "\n",
            "            > jupyter nbconvert mynotebook.ipynb --stdout\n",
            "\n",
            "            PDF is generated via latex\n",
            "\n",
            "            > jupyter nbconvert mynotebook.ipynb --to pdf\n",
            "\n",
            "            You can get (and serve) a Reveal.js-powered slideshow\n",
            "\n",
            "            > jupyter nbconvert myslides.ipynb --to slides --post serve\n",
            "\n",
            "            Multiple notebooks can be given at the command line in a couple of\n",
            "            different ways:\n",
            "\n",
            "            > jupyter nbconvert notebook*.ipynb\n",
            "            > jupyter nbconvert notebook1.ipynb notebook2.ipynb\n",
            "\n",
            "            or you can specify the notebooks list in a config file, containing::\n",
            "\n",
            "                c.NbConvertApp.notebooks = [\"my_notebook.ipynb\"]\n",
            "\n",
            "            > jupyter nbconvert --config mycfg.py\n",
            "\n",
            "To see all available configurables, use `--help-all`.\n",
            "\n"
          ]
        }
      ]
    },
    {
      "cell_type": "code",
      "source": [],
      "metadata": {
        "id": "r1-1tA2cA1ED"
      },
      "execution_count": null,
      "outputs": []
    }
  ],
  "metadata": {
    "accelerator": "TPU",
    "colab": {
      "provenance": []
    },
    "kernelspec": {
      "display_name": "Python 3 (ipykernel)",
      "language": "python",
      "name": "python3"
    },
    "language_info": {
      "codemirror_mode": {
        "name": "ipython",
        "version": 3
      },
      "file_extension": ".py",
      "mimetype": "text/x-python",
      "name": "python",
      "nbconvert_exporter": "python",
      "pygments_lexer": "ipython3",
      "version": "3.9.7"
    }
  },
  "nbformat": 4,
  "nbformat_minor": 0
}